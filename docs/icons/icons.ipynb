{
 "cells": [
  {
   "cell_type": "code",
   "execution_count": 2,
   "metadata": {},
   "outputs": [],
   "source": [
    "import numpy as np\n",
    "import pyvista as pv\n",
    "\n",
    "import geogen.model as geo\n",
    "import geogen.generation as gen\n",
    "import geogen.plot as geovis\n",
    "from geogen.probability import SedimentBuilder\n",
    "\n",
    "\n",
    "pv.set_jupyter_backend('static')\n",
    "WS = (600,400) # Set a custom window size to be reused in most plots\n"
   ]
  },
  {
   "cell_type": "markdown",
   "metadata": {},
   "source": [
    "## GeoProcess Icon Sketchbook\n",
    "\n",
    "Source code for generating GeoProcess sample images for documentation."
   ]
  },
  {
   "cell_type": "markdown",
   "metadata": {},
   "source": [
    "### Custom Plot Type for GeoProcess Icon Sketchbook "
   ]
  },
  {
   "cell_type": "code",
   "execution_count": 3,
   "metadata": {},
   "outputs": [],
   "source": [
    "def demoview(model, threshold=-0.5, opacity=1, plotter=None):\n",
    "\n",
    "    if plotter is None:\n",
    "        plotter = pv.Plotter(window_size=WS)\n",
    "    p=plotter\n",
    "    \n",
    "    cats = np.arange(11)   # Set the number of categories for the colormap\n",
    "    clim = [cats.min(), cats.max()] # Preset color limits for all subplots\n",
    "    \n",
    "    grid = geovis.get_voxel_grid_from_model(model, threshold=threshold)\n",
    "    skin=grid.extract_surface()\n",
    "    \n",
    "    p.add_mesh(skin,scalars='values',clim=clim,cmap='gist_ncar',opacity=opacity)\n",
    "    # p.add_axes(line_width=5)    \n",
    "    p.remove_scalar_bar()\n",
    "    \n",
    "    flat_bounds = [item for sublist in model.bounds for item in sublist]\n",
    "    bounding_box = pv.Box(flat_bounds)\n",
    "    p.add_mesh(bounding_box, color=\"black\", style=\"wireframe\", line_width=3, name=\"bounding_box\")\n",
    "    p.camera.elevation = -20\n",
    "    return p\n",
    "\n",
    "def get_trimmed_bounding_box():\n",
    "    new_points = np.array([\n",
    "    [-20, -20, -10],\n",
    "    [ 20, -20, -10],\n",
    "    [-20,  20, -10],\n",
    "    [ 20,  20, -10],\n",
    "    [-20, -20,  10],\n",
    "    [ 20, -20,  10],\n",
    "    [-20,  20,  10],\n",
    "])\n",
    "    lines = [\n",
    "        2, 0, 1,  # Line from point 0 to point 1\n",
    "        2, 0, 2,  # Line from point 0 to point 2\n",
    "        2, 0, 4,  # Line from point 0 to point 4\n",
    "        2, 1, 3,  # Line from point 1 to point 3\n",
    "        2, 1, 5,  # Line from point 1 to point 5\n",
    "        2, 2, 3,  # Line from point 2 to point 3\n",
    "        2, 2, 6,  # Line from point 2 to point 6\n",
    "        2, 4, 5,  # Line from point 4 to point 5\n",
    "        2, 4, 6   # Line from point 4 to point 6\n",
    "    ]\n",
    "    # Create a new PolyData for the bounding box\n",
    "    line_polydata = pv.PolyData()\n",
    "    line_polydata.points = new_points\n",
    "    line_polydata.lines = lines\n",
    "    return line_polydata\n",
    "\n",
    "SCALING = 2.0\n"
   ]
  },
  {
   "cell_type": "markdown",
   "metadata": {},
   "source": [
    "### Layer Demo"
   ]
  },
  {
   "cell_type": "code",
   "execution_count": 4,
   "metadata": {},
   "outputs": [],
   "source": [
    "bounds = ((-20, 20), (-20, 20), (-10, 10))\n",
    "resolution = (128, 128, 64)\n",
    "model = geo.GeoModel(bounds=bounds, resolution=resolution)"
   ]
  },
  {
   "cell_type": "code",
   "execution_count": 5,
   "metadata": {},
   "outputs": [
    {
     "name": "stdout",
     "output_type": "stream",
     "text": [
      "\n"
     ]
    }
   ],
   "source": [
    "layer = geo.Layer(base=-10, width=10, value=0)\n",
    "model.clear_history()\n",
    "model.add_history(layer)\n",
    "model.compute_model()\n",
    "p = demoview(model)\n",
    "p.screenshot(\"images/layer1.png\", scale=SCALING, transparent_background=True)\n",
    "\n",
    "layer = geo.Layer(base=0, width=5, value=2)\n",
    "model.clear_history()\n",
    "model.add_history(layer)\n",
    "model.compute_model()\n",
    "p = demoview(model, opacity=.8, plotter=p)\n",
    "\n",
    "p.screenshot(\"images/layer2.png\", scale=SCALING, transparent_background=True)\n",
    "print('')"
   ]
  },
  {
   "cell_type": "markdown",
   "metadata": {},
   "source": [
    "### Shift Demo\n"
   ]
  },
  {
   "cell_type": "code",
   "execution_count": 5,
   "metadata": {},
   "outputs": [],
   "source": [
    "bedrock = geo.Bedrock(base=-10, value=0)\n",
    "sb = SedimentBuilder(1,10,4,4)\n",
    "vals, thicks = sb.build_layers()\n",
    "sediment = geo.Sedimentation(value_list=vals, thickness_list=thicks)\n",
    "fold = geo.Fold(strike=30, dip=90, rake=0, origin=(0, 0, 0), amplitude=4, period=90, shape=1)\n",
    "dike = geo.DikePlane(strike=45, dip=90, width=4, origin=(0, 0, 0), value=6)\n",
    "\n",
    "model.clear_history()\n",
    "model.add_history([bedrock,sediment, fold, dike])\n",
    "model.compute_model()\n",
    "p = demoview(model)\n",
    "\n",
    "p.screenshot(\"images/shift1.png\", scale=SCALING, transparent_background=True)\n",
    "\n",
    "shift = geo.Shift(vector=(8,-4,8))\n",
    "model.add_history(shift)\n",
    "model.compute_model()\n",
    "p = demoview(model)\n",
    "\n",
    "p.screenshot(\"images/shift2.png\", scale=SCALING, transparent_background=True);"
   ]
  },
  {
   "cell_type": "markdown",
   "metadata": {},
   "source": [
    "### Rotate Demo"
   ]
  },
  {
   "cell_type": "code",
   "execution_count": 6,
   "metadata": {},
   "outputs": [],
   "source": [
    "def simple_hist():\n",
    "    bedrock = geo.Bedrock(base=-10, value=0)\n",
    "    sb = SedimentBuilder(1,10,4,4)\n",
    "    vals, thicks = sb.build_layers()\n",
    "    sediment = geo.Sedimentation(value_list=vals, thickness_list=thicks)\n",
    "    fold = geo.Fold(strike=30, dip=90, rake=0, origin=(0, 0, 0), amplitude=4, period=90, shape=1)\n",
    "    dike = geo.DikePlane(strike=45, dip=90, width=4, origin=(0, 0, 0), value=6)\n",
    "    return [bedrock, sediment, fold, dike]\n",
    "\n",
    "\n",
    "model.clear_history()\n",
    "model.add_history(simple_hist())\n",
    "model.compute_model()\n",
    "p = demoview(model)\n",
    "\n",
    "p.screenshot(\"images/rotate1.png\", scale=SCALING, transparent_background=True)\n",
    "axis = [0,0,1]\n",
    "rot = geo.Rotate(axis=axis, angle=-30)\n",
    "model.add_history(rot)\n",
    "model.compute_model()\n",
    "p = demoview(model)\n",
    "\n",
    "p.screenshot(\"images/rotate2.png\", scale=SCALING, transparent_background=True);"
   ]
  },
  {
   "cell_type": "markdown",
   "metadata": {},
   "source": [
    "### Bedrock Demo"
   ]
  },
  {
   "cell_type": "code",
   "execution_count": 7,
   "metadata": {},
   "outputs": [],
   "source": [
    "model.clear_history()\n",
    "model.add_history(geo.NullProcess())\n",
    "model.compute_model()\n",
    "model.data[0] = 0 # Hack to bypass error warnings\n",
    "p = demoview(model)\n",
    "p.screenshot(\"images/bedrock1.png\", scale=SCALING, transparent_background=True)\n",
    "\n",
    "bedrock = geo.Bedrock(base=-2, value=0)\n",
    "model.clear_history()\n",
    "model.add_history(bedrock)\n",
    "model.compute_model()\n",
    "p = demoview(model)\n",
    "p.screenshot(\"images/bedrock2.png\", scale=SCALING, transparent_background=True);"
   ]
  },
  {
   "cell_type": "markdown",
   "metadata": {},
   "source": [
    "### Sedimentation Demo"
   ]
  },
  {
   "cell_type": "code",
   "execution_count": 8,
   "metadata": {},
   "outputs": [],
   "source": [
    "model.clear_history()\n",
    "model.add_history(simple_hist())\n",
    "model.compute_model()\n",
    "p = demoview(model)\n",
    "p.screenshot(\"images/sediment1.png\", scale=SCALING, transparent_background=True)\n",
    "\n",
    "sediment2 = geo.Sedimentation(value_list=[5,9,7,8], thickness_list=[1,3,2,3])\n",
    "model.add_history(sediment2)\n",
    "model.compute_model()\n",
    "p = demoview(model, plotter=p, opacity=0.7)\n",
    "p.screenshot(\"images/sediment2.png\", scale=SCALING, transparent_background=True);"
   ]
  },
  {
   "cell_type": "markdown",
   "metadata": {},
   "source": [
    "### Unconformity Demo"
   ]
  },
  {
   "cell_type": "code",
   "execution_count": 9,
   "metadata": {},
   "outputs": [],
   "source": [
    "model.clear_history()\n",
    "model.add_history(simple_hist())\n",
    "model.compute_model()\n",
    "p = demoview(model)\n",
    "p.screenshot(\"images/unconf1.png\", scale=SCALING, transparent_background=True)\n",
    "\n",
    "unconformity = geo.UnconformityBase(-5)\n",
    "model.add_history(unconformity)\n",
    "model.compute_model()\n",
    "p = demoview(model)\n",
    "model.clear_history()\n",
    "model.add_history(simple_hist())\n",
    "model.compute_model()\n",
    "p = demoview(model, plotter=p, opacity=0.2)\n",
    "p.screenshot(\"images/unconfbase.png\", scale=SCALING, transparent_background=True);\n"
   ]
  },
  {
   "cell_type": "markdown",
   "metadata": {},
   "source": [
    "### Tilt Demo"
   ]
  },
  {
   "cell_type": "code",
   "execution_count": 10,
   "metadata": {},
   "outputs": [],
   "source": [
    "model.clear_history()\n",
    "model.add_history(simple_hist())\n",
    "model.compute_model()\n",
    "p = demoview(model)\n",
    "p.screenshot(\"images/tilt1.png\", scale=SCALING, transparent_background=True)\n",
    "\n",
    "tilt = geo.Tilt(strike=-45, dip=15, origin= (20,20,0))\n",
    "model.add_history(tilt)\n",
    "model.compute_model()\n",
    "p = demoview(model)\n",
    "p.screenshot(\"images/tilt2.png\", scale=SCALING, transparent_background=True);"
   ]
  },
  {
   "cell_type": "markdown",
   "metadata": {},
   "source": [
    "### Dike Intrusions Demo"
   ]
  },
  {
   "cell_type": "code",
   "execution_count": 11,
   "metadata": {},
   "outputs": [],
   "source": [
    "name = \"dikeplane\"\n",
    "\n",
    "def flat_hist():\n",
    "    bedrock = geo.Bedrock(base=-5, value=0)\n",
    "    sb = SedimentBuilder(1,10,4,4)\n",
    "    vals, thicks = sb.build_layers()\n",
    "    sediment = geo.Sedimentation(value_list=vals, thickness_list=thicks)\n",
    "    fold = geo.Fold(strike=30, dip=90, rake=0, origin=(0, 0, 0), amplitude=4, period=90, shape=1)\n",
    "    erode = geo.UnconformityDepth(4)\n",
    "    return [bedrock, sediment, fold, erode]\n",
    "\n",
    "\n",
    "model.clear_history()\n",
    "model.add_history(flat_hist())\n",
    "model.compute_model()\n",
    "p = demoview(model,)\n",
    "p.screenshot(f\"images/{name}1.png\", scale=SCALING, transparent_background=True)\n",
    "\n",
    "dike = geo.DikePlane(strike=-60, dip=90, width=4, origin=(0, 0, 0), value=6)\n",
    "model.add_history(dike)\n",
    "model.compute_model()\n",
    "p = demoview(model, )\n",
    "p.screenshot(f\"images/{name}2.png\", scale=SCALING, transparent_background=True);"
   ]
  },
  {
   "cell_type": "code",
   "execution_count": 12,
   "metadata": {},
   "outputs": [],
   "source": [
    "name = \"dikecolumn\"\n",
    "\n",
    "model.clear_history()\n",
    "bedrock = geo.Bedrock(base=5, value=1)\n",
    "model.add_history(bedrock)\n",
    "model.compute_model()\n",
    "p = demoview(model, opacity=.5)\n",
    "p.screenshot(f\"images/{name}1.png\", scale=SCALING, transparent_background=True)\n",
    "\n",
    "dikecol = geo.DikeColumn(origin=(0,0,6), diam = 30, value=6, minor_axis_scale=.6, rotation = -45, clip=True) \n",
    "model.add_history(dikecol)\n",
    "model.compute_model()\n",
    "model.data[model.data < 6] = -1\n",
    "p = demoview(model, plotter=p)\n",
    "p.screenshot(f\"images/{name}2.png\", scale=SCALING, transparent_background=True);"
   ]
  },
  {
   "cell_type": "code",
   "execution_count": 13,
   "metadata": {},
   "outputs": [],
   "source": [
    "name = \"dikehemisphere\"\n",
    "\n",
    "model.clear_history()\n",
    "bedrock = geo.Bedrock(base=5, value=1)\n",
    "model.add_history(bedrock)\n",
    "model.compute_model()\n",
    "p = demoview(model, opacity=.5)\n",
    "p.screenshot(f\"images/{name}1.png\", scale=SCALING, transparent_background=True)\n",
    "\n",
    "dikecol = geo.DikeHemisphere(origin=(-1,-1,-3), diam = 30, height=10, value=6, minor_axis_scale=.6, rotation = -45, clip=True) \n",
    "model.add_history(dikecol)\n",
    "model.compute_model()\n",
    "model.data[model.data < 6] = -1\n",
    "p = demoview(model, plotter=p)\n",
    "p.screenshot(f\"images/{name}2.png\", scale=SCALING, transparent_background=True);"
   ]
  },
  {
   "cell_type": "code",
   "execution_count": 14,
   "metadata": {},
   "outputs": [],
   "source": [
    "def slice_volume(model, start, stop):\n",
    "    # convert to theta coords\n",
    "    theta = np.arctan2(model.xyz[:,1], model.xyz[:,0])\n",
    "    mask = (theta >= start) & (theta <= stop)\n",
    "    model.data[mask] = -1\n",
    "    return model"
   ]
  },
  {
   "cell_type": "code",
   "execution_count": 15,
   "metadata": {},
   "outputs": [],
   "source": [
    "name = \"dikehemispherepushed\"\n",
    "\n",
    "def sed_hist():\n",
    "    bedrock = geo.Bedrock(base=-5, value=0)\n",
    "    sb = SedimentBuilder(1, 10, 4, 4)\n",
    "    vals, thicks = sb.build_layers()\n",
    "    sediment = geo.Sedimentation(value_list=vals, thickness_list=thicks)\n",
    "    return [bedrock, sediment]\n",
    "\n",
    "model.clear_history()\n",
    "model.add_history(sed_hist())\n",
    "model.compute_model()\n",
    "model = slice_volume(model, 0, 3*np.pi/4)\n",
    "p = demoview(model, opacity=1)\n",
    "p.remove_actor(\"bounding_box\")\n",
    "new_bound_box = p.add_mesh(get_trimmed_bounding_box(), color=\"black\", line_width=3)\n",
    "p.screenshot(f\"images/{name}1.png\", scale=SCALING, transparent_background=True)\n",
    "\n",
    "# Now, add your dike hemisphere and repeat for the second model state\n",
    "dikecol = geo.DikeHemispherePushed(origin=(-1, -1, -5), diam=30, height=10, value=6, minor_axis_scale=0.6, rotation=-45, clip=True)\n",
    "model.add_history(dikecol)\n",
    "model.compute_model()\n",
    "model = slice_volume(model, 0, 3*np.pi/4)\n",
    "p = demoview(model, )\n",
    "\n",
    "p.remove_actor(\"bounding_box\")\n",
    "new_bound_box = p.add_mesh(get_trimmed_bounding_box(), color=\"black\", line_width=3)\n",
    "p.screenshot(f\"images/{name}2.png\", scale=SCALING, transparent_background=True);"
   ]
  },
  {
   "cell_type": "code",
   "execution_count": 16,
   "metadata": {},
   "outputs": [],
   "source": [
    "name = \"LaccolithLopolith\"\n",
    "\n",
    "model.clear_history()\n",
    "model.add_history(sed_hist())\n",
    "model.compute_model()\n",
    "model = slice_volume(model, 0, 3*np.pi/4)\n",
    "p = demoview(model, opacity=.8)\n",
    "p.remove_actor(\"bounding_box\")\n",
    "new_bound_box = p.add_mesh(get_trimmed_bounding_box(), color=\"black\", line_width=3)\n",
    "p.screenshot(f\"images/{name}1.png\", scale=SCALING, transparent_background=True)\n",
    "\n",
    "dikecol = geo.Laccolith(origin=(2,-1,0),cap_diam = 30, stem_diam = 5, height = 4, value=6 )\n",
    "model.add_history(dikecol)\n",
    "model.compute_model()\n",
    "model = slice_volume(model, 0, 3*np.pi/4)\n",
    "p = demoview(model, )\n",
    "\n",
    "p.remove_actor(\"bounding_box\")\n",
    "new_bound_box = p.add_mesh(get_trimmed_bounding_box(), color=\"black\", line_width=3)\n",
    "p.screenshot(f\"images/{name}2.png\", scale=SCALING, transparent_background=True);"
   ]
  },
  {
   "cell_type": "code",
   "execution_count": 17,
   "metadata": {},
   "outputs": [],
   "source": [
    "name = \"dikeplug\"\n",
    "\n",
    "model.clear_history()\n",
    "bedrock = geo.Bedrock(base=5, value=1)\n",
    "model.add_history(bedrock)\n",
    "model.compute_model()\n",
    "p = demoview(model, opacity=.5)\n",
    "p.screenshot(f\"images/{name}1.png\", scale=SCALING, transparent_background=True)\n",
    "\n",
    "dikecol = geo.DikePlug(origin=(0,0,5), diam = 30, value=6, minor_axis_scale=.4, rotation = -15, shape=10, clip=True) \n",
    "model.add_history(dikecol)\n",
    "model.compute_model()\n",
    "model.data[model.data < 6] = -1\n",
    "p = demoview(model, plotter=p)\n",
    "p.screenshot(f\"images/{name}2.png\", scale=SCALING, transparent_background=True);"
   ]
  },
  {
   "cell_type": "code",
   "execution_count": 18,
   "metadata": {},
   "outputs": [],
   "source": [
    "name = \"dikeplugpushed\"\n",
    "\n",
    "model.clear_history()\n",
    "model.add_history(sed_hist())\n",
    "model.compute_model()\n",
    "model = slice_volume(model, 0, 3*np.pi/4)\n",
    "p = demoview(model, opacity=.8)\n",
    "p.remove_actor(\"bounding_box\")\n",
    "new_bound_box = p.add_mesh(get_trimmed_bounding_box(), color=\"black\", line_width=3)\n",
    "p.screenshot(f\"images/{name}1.png\", scale=SCALING, transparent_background=True)\n",
    "\n",
    "dikecol = geo.DikePlugPushed(origin=(0,0,5), diam = 30, value=6, minor_axis_scale=.4, rotation = -15, shape=10) \n",
    "model.add_history(dikecol)\n",
    "model.compute_model()\n",
    "model = slice_volume(model, 0, 3*np.pi/4)\n",
    "p = demoview(model, )\n",
    "\n",
    "p.remove_actor(\"bounding_box\")\n",
    "new_bound_box = p.add_mesh(get_trimmed_bounding_box(), color=\"black\", line_width=3)\n",
    "p.screenshot(f\"images/{name}2.png\", scale=SCALING, transparent_background=True);"
   ]
  },
  {
   "cell_type": "markdown",
   "metadata": {},
   "source": [
    "### Tectonic Transforms"
   ]
  },
  {
   "cell_type": "code",
   "execution_count": 19,
   "metadata": {},
   "outputs": [],
   "source": [
    "def cross_layers():\n",
    "    bedrock = geo.Bedrock(base=-5, value=0)\n",
    "    vals = [1,2,3,4,1,2,3,4]\n",
    "    thicks = [1.5]\n",
    "    sediment = geo.Sedimentation(value_list=vals, thickness_list=thicks)\n",
    "    dikes = []\n",
    "    for i in range(6):\n",
    "        dike = geo.DikePlane(strike=0, dip=90, width=1, origin=(-16 + i*6, 0, 0), value=6)\n",
    "        dikes.append(dike)\n",
    "    return [bedrock, sediment] + dikes"
   ]
  },
  {
   "cell_type": "code",
   "execution_count": 20,
   "metadata": {},
   "outputs": [],
   "source": [
    "name = \"fold\"\n",
    "\n",
    "model.clear_history()\n",
    "model.add_history(cross_layers())\n",
    "model.compute_model()\n",
    "model = slice_volume(model, 0, 3*np.pi/4)\n",
    "p = demoview(model, opacity=1)\n",
    "p.remove_actor(\"bounding_box\")\n",
    "new_bound_box = p.add_mesh(get_trimmed_bounding_box(), color=\"black\", line_width=3)\n",
    "p.screenshot(f\"images/{name}1.png\", scale=SCALING, transparent_background=True)\n",
    "\n",
    "fold = geo.Fold(strike=45, dip=90, rake=45, origin=(0, 0, 0), amplitude=3, period=20, shape=.2)\n",
    "model.add_history(fold)\n",
    "model.compute_model()\n",
    "model = slice_volume(model, 0, 3*np.pi/4)\n",
    "p = demoview(model, )\n",
    "\n",
    "p.remove_actor(\"bounding_box\")\n",
    "new_bound_box = p.add_mesh(get_trimmed_bounding_box(), color=\"black\", line_width=3)\n",
    "p.screenshot(f\"images/{name}2.png\", scale=SCALING, transparent_background=True);"
   ]
  },
  {
   "cell_type": "code",
   "execution_count": 21,
   "metadata": {},
   "outputs": [],
   "source": [
    "name = \"fault\"\n",
    "\n",
    "model.clear_history()\n",
    "model.add_history(cross_layers())\n",
    "model.compute_model()\n",
    "model = slice_volume(model, 0, 3*np.pi/4)\n",
    "p = demoview(model, opacity=1)\n",
    "p.remove_actor(\"bounding_box\")\n",
    "new_bound_box = p.add_mesh(get_trimmed_bounding_box(), color=\"black\", line_width=3)\n",
    "p.screenshot(f\"images/{name}1.png\", scale=SCALING, transparent_background=True)\n",
    "\n",
    "fold = geo.Fault(strike=-90, dip=45, rake=45, origin=(0, 0, 0), amplitude=3)\n",
    "model.add_history(fold)\n",
    "model.compute_model()\n",
    "model = slice_volume(model, 0, 3*np.pi/4)\n",
    "p = demoview(model, )\n",
    "\n",
    "p.remove_actor(\"bounding_box\")\n",
    "new_bound_box = p.add_mesh(get_trimmed_bounding_box(), color=\"black\", line_width=3)\n",
    "p.screenshot(f\"images/{name}2.png\", scale=SCALING, transparent_background=True);"
   ]
  },
  {
   "cell_type": "code",
   "execution_count": 22,
   "metadata": {},
   "outputs": [],
   "source": [
    "name = \"shear\"\n",
    "\n",
    "model.clear_history()\n",
    "model.add_history(cross_layers())\n",
    "model.compute_model()\n",
    "model = slice_volume(model, 0, 3*np.pi/4)\n",
    "p = demoview(model, opacity=1)\n",
    "p.remove_actor(\"bounding_box\")\n",
    "new_bound_box = p.add_mesh(get_trimmed_bounding_box(), color=\"black\", line_width=3)\n",
    "p.screenshot(f\"images/{name}1.png\", scale=SCALING, transparent_background=True)\n",
    "\n",
    "fold = geo.Shear(strike=-90, dip=45, rake=45, origin=(0, 0, 0), amplitude=5, steepness=2)\n",
    "model.add_history(fold)\n",
    "model.compute_model()\n",
    "model = slice_volume(model, 0, 3*np.pi/4)\n",
    "p = demoview(model, )\n",
    "\n",
    "p.remove_actor(\"bounding_box\")\n",
    "new_bound_box = p.add_mesh(get_trimmed_bounding_box(), color=\"black\", line_width=3)\n",
    "p.screenshot(f\"images/{name}2.png\", scale=SCALING, transparent_background=True);"
   ]
  },
  {
   "cell_type": "code",
   "execution_count": 23,
   "metadata": {},
   "outputs": [],
   "source": [
    "name = \"slip\"\n",
    "\n",
    "model.clear_history()\n",
    "model.add_history(cross_layers())\n",
    "model.compute_model()\n",
    "model = slice_volume(model, 0, 3*np.pi/4)\n",
    "p = demoview(model, opacity=1)\n",
    "p.remove_actor(\"bounding_box\")\n",
    "new_bound_box = p.add_mesh(get_trimmed_bounding_box(), color=\"black\", line_width=3)\n",
    "p.screenshot(f\"images/{name}1.png\", scale=SCALING, transparent_background=True)\n",
    "\n",
    "parabola = lambda x: -(.3*x)**2\n",
    "fold = geo.Slip(displacement_func= parabola, strike=-90, dip=45, rake=45, origin=(0, 0, 0), amplitude=.4)\n",
    "model.add_history(fold)\n",
    "model.compute_model()\n",
    "model = slice_volume(model, 0, 3*np.pi/4)\n",
    "p = demoview(model, )\n",
    "\n",
    "p.remove_actor(\"bounding_box\")\n",
    "new_bound_box = p.add_mesh(get_trimmed_bounding_box(), color=\"black\", line_width=3)\n",
    "p.screenshot(f\"images/{name}2.png\", scale=SCALING, transparent_background=True);"
   ]
  },
  {
   "cell_type": "code",
   "execution_count": 38,
   "metadata": {},
   "outputs": [],
   "source": [
    "name = \"metaball\"\n",
    "\n",
    "model.clear_history()\n",
    "model.add_history(geo.NullProcess())\n",
    "model.compute_model()\n",
    "model.data[0] = 0 # Hack to bypass error warnings\n",
    "p = demoview(model)\n",
    "p.screenshot(f\"images/{name}1.png\", scale=SCALING, transparent_background=True)\n",
    "\n",
    "# Make a starting list of balls generatively and create a deterministic MetaBall object\n",
    "ballgen = geo.BallListGenerator(step_range = [2,4], rad_range = [.5,1], goo_range=[.8,1])\n",
    "balls = ballgen.generate(n_balls=52, origin=[0,0,-5], variance=2)\n",
    "\n",
    "# Threshold 1 MetaBall\n",
    "model.clear_history()\n",
    "metaball = geo.MetaBall(balls=balls, threshold = 1, value = 6, clip=False)\n",
    "model.add_history(metaball)\n",
    "model.compute_model()\n",
    "p = demoview(model, plotter=p)\n",
    "\n",
    "p.remove_actor(\"bounding_box\")\n",
    "new_bound_box = p.add_mesh(get_trimmed_bounding_box(), color=\"black\", line_width=3)\n",
    "p.screenshot(f\"images/{name}2.png\", scale=SCALING, transparent_background=True);"
   ]
  }
 ],
 "metadata": {
  "kernelspec": {
   "display_name": "ml",
   "language": "python",
   "name": "python3"
  },
  "language_info": {
   "codemirror_mode": {
    "name": "ipython",
    "version": 3
   },
   "file_extension": ".py",
   "mimetype": "text/x-python",
   "name": "python",
   "nbconvert_exporter": "python",
   "pygments_lexer": "ipython3",
   "version": "3.11.9"
  }
 },
 "nbformat": 4,
 "nbformat_minor": 2
}
