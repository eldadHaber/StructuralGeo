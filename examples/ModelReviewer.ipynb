{
 "cells": [
  {
   "cell_type": "markdown",
   "metadata": {},
   "source": [
    "# Model Reviewer\n",
    "Allows for the passing of a model generator function to a reviewer object that will generate the model, render it, display, and allow the option to reject or save the model."
   ]
  },
  {
   "cell_type": "code",
   "execution_count": 1,
   "metadata": {},
   "outputs": [],
   "source": [
    "import numpy as np\n",
    "import pyvista as pv\n",
    "\n",
    "from structgeo.model import geo\n",
    "from structgeo.plot import plot as geovis\n",
    "import structgeo.probability as rv\n",
    "\n",
    "pv.set_jupyter_backend('static')"
   ]
  },
  {
   "cell_type": "markdown",
   "metadata": {},
   "source": [
    "## Model\n",
    "Specify the model type first, then populate it with a history"
   ]
  },
  {
   "cell_type": "code",
   "execution_count": 2,
   "metadata": {},
   "outputs": [],
   "source": [
    "# Set random seed for reproducibility\n",
    "# random_seed = 1234\n",
    "# np.random.seed(random_seed)"
   ]
  },
  {
   "cell_type": "code",
   "execution_count": 3,
   "metadata": {},
   "outputs": [
    {
     "name": "stdout",
     "output_type": "stream",
     "text": [
      "Model created with bounds (-10, 10) and resolution 128\n"
     ]
    }
   ],
   "source": [
    "# Start with some model specifications\n",
    "resolution = 128\n",
    "# Cubic model keeps \n",
    "max_x = 10\n",
    "min_x = - max_x\n",
    "model_size = max_x - min_x\n",
    "bounds = (min_x,max_x)\n",
    "model = geo.GeoModel(bounds, resolution)\n",
    "print(f\"Model created with bounds {bounds} and resolution {resolution}\")"
   ]
  },
  {
   "cell_type": "markdown",
   "metadata": {},
   "source": [
    "##"
   ]
  },
  {
   "cell_type": "code",
   "execution_count": 4,
   "metadata": {},
   "outputs": [
    {
     "data": {
      "application/vnd.jupyter.widget-view+json": {
       "model_id": "673769eccaa74e7cb741ce2556330fd1",
       "version_major": 2,
       "version_minor": 0
      },
      "text/plain": [
       "HBox(children=(Button(description='Save Model', style=ButtonStyle()), Button(description='Discard Model', styl…"
      ]
     },
     "metadata": {},
     "output_type": "display_data"
    },
    {
     "data": {
      "application/vnd.jupyter.widget-view+json": {
       "model_id": "8246be387d474857b56b7372fc037f35",
       "version_major": 2,
       "version_minor": 0
      },
      "text/plain": [
       "Output()"
      ]
     },
     "metadata": {},
     "output_type": "display_data"
    }
   ],
   "source": [
    "from structgeo.data.model_reviewer import ModelReviewer\n",
    "from structgeo.data.file_manager import FileManager\n",
    "\n",
    "DEFAULT_BASE_DIR = \"../saved_models\"\n",
    "\n",
    "# Here we define the generation of a history and apply it to the model\n",
    "def generate_model():\n",
    "    # Place the model generation logic here\n",
    "    base = min_x + model_size / 5 + np.random.normal(0, model_size / 20)\n",
    "    height = base + model_size / 3 + np.random.normal(0, model_size / 10)\n",
    "    height = max(height, base + model_size/10)\n",
    "    \n",
    "    avg_thickness = (height-base)/10\n",
    "    def thickness():\n",
    "        return np.random.lognormal(np.log(avg_thickness), 1)\n",
    "    \n",
    "    bedrock = geo.Bedrock(base, 0)\n",
    "    sediment = geo.Sedimentation(height, list(range(1, 100)), thickness_callable=thickness)\n",
    "    model.clear_history()\n",
    "    model.add_history([bedrock, sediment])\n",
    "    model.compute_model()\n",
    "    return model\n",
    "\n",
    "reviewer = ModelReviewer(generate_model_func=generate_model, base_dir=DEFAULT_BASE_DIR)\n",
    "reviewer.start_review()"
   ]
  },
  {
   "cell_type": "code",
   "execution_count": null,
   "metadata": {},
   "outputs": [],
   "source": []
  }
 ],
 "metadata": {
  "kernelspec": {
   "display_name": "gnns",
   "language": "python",
   "name": "python3"
  },
  "language_info": {
   "codemirror_mode": {
    "name": "ipython",
    "version": 3
   },
   "file_extension": ".py",
   "mimetype": "text/x-python",
   "name": "python",
   "nbconvert_exporter": "python",
   "pygments_lexer": "ipython3",
   "version": "3.11.5"
  }
 },
 "nbformat": 4,
 "nbformat_minor": 2
}
