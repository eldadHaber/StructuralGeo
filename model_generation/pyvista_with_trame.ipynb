{
 "cells": [
  {
   "cell_type": "markdown",
   "metadata": {},
   "source": [
    "# Tutorial on Interfacing with GeoModels using PyVista and Trame\n",
    "\n",
    "## Introduction\n",
    "\n",
    "This Jupyter notebook serves as a guide to demonstrate how to leverage the powerful capabilities of PyVista, Trame for interfacing with GeoModels. These tools provide robust frameworks for rendering, manipulating, and analyzing 3D geological models using the Visualization Toolkit (VTK). PyVista offers some advantages over other visualization tools, with its ability to interface directly with the numpy arrays that store the core Geomodel data structures. Some purpose built displays modes have been developed for viewing Geomodels, but the full power of PyVista can be used to extend the library into more advanced custom visualization and analysis.\n",
    "\n",
    "## Purpose\n",
    "\n",
    "The purpose of this notebook is to provide a step-by-step tutorial on how to utilize PyVista to work with geological models. We will cover the following key areas:\n",
    "\n",
    "1. **Introduction to PyVista, Trame**: Understanding the core functionalities and features of each library.\n",
    "2. **Setting Up the Environment**: Instructions on how to install and configure the necessary libraries.\n",
    "3. **Loading and Visualizing GeoModels**: Techniques for importing and visualizing geological models using PyVista.\n",
    "4. **Interactive Visualization with Trame**: Utilizing Trame to create interactive web-based visualizations.\n",
    "\n",
    "By the end of this notebook, you will have an understanding of how to effectively interface with GeoModels.\n",
    "\n",
    "## Libraries Overview\n",
    "\n",
    "- **PyVista**: A flexible and easy-to-use library for 3D plotting and mesh analysis based on VTK. It provides a high-level API for visualizing and analyzing 3D data.\n",
    "  - [PyVista Documentation](https://docs.pyvista.org/)\n",
    "  - [PyVista Tutorials](https://docs.pyvista.org/examples/index.html)\n",
    "  - [PyVista Installation](https://docs.pyvista.org/getting-started/installation.html)\n",
    "\n",
    "- **Trame**: A framework for building interactive web applications with VTK. It allows seamless integration of VTK-based visualizations into web interfaces, enabling interactive exploration of 3D models.\n",
    "  - [Trame Documentation](https://kitware.github.io/trame/)\n",
    "\n",
    "- **VTK (Visualization Toolkit)**: An open-source software system for 3D computer graphics, image processing, and visualization. VTK forms the backbone of both PyVista and Trame, offering extensive capabilities for 3D data processing and rendering.\n",
    "  - [VTK Documentation](https://vtk.org/)\n",
    "\n",
    "## Getting Started\n",
    "\n",
    "To begin, ensure you have the necessary libraries installed. You can set up your environment by following the installation instructions provided in the PyVista installation instructions above. In addition, if planning to use Jupyter or html web embeddings for visualization you should install Trame as well by following the [PyVista Tutorials Getting Started](https://tutorial.pyvista.org/getting-started.html) for installation and [PyVista in Jupyter](https://tutorial.pyvista.org/tutorial/00_jupyter/index.html) for Jupyter notebook setup."
   ]
  },
  {
   "cell_type": "code",
   "execution_count": 1,
   "metadata": {},
   "outputs": [],
   "source": [
    "import pyvista as pv\n",
    "\n",
    "from structgeo import model as geo\n",
    "from structgeo import plot as geovis\n",
    "from structgeo import probability as rv\n",
    "from structgeo.plot import ModelGenerator\n",
    "\n",
    "# Client backend deliver fast viewing performance\n",
    "pv.set_jupyter_backend('client')\n",
    "pv.set_plot_theme('default')"
   ]
  },
  {
   "cell_type": "code",
   "execution_count": 2,
   "metadata": {},
   "outputs": [],
   "source": [
    "# Define a function to generate a model\n",
    "def generate_model():\n",
    "    # Start with some model specifications\n",
    "    resolution = 128\n",
    "    # Cubic model keeps \n",
    "    max_x = 10\n",
    "    min_x = - max_x\n",
    "    bounds = (min_x,max_x)\n",
    "    model = geo.GeoModel(bounds, resolution)\n",
    "    # Bedrock layer\n",
    "    bedrock = geo.Bedrock(-5, 0)\n",
    "    \n",
    "    sb = geo.SedimentBuilder(1,6,2,8)\n",
    "    sediment = geo.Sedimentation(*sb.get_layers())\n",
    "    \n",
    "    fault = geo.Fault(dip=63, rake = 32)\n",
    "    sediment2 = geo.Sedimentation(*sb.get_layers())\n",
    "    \n",
    "    model.add_history([bedrock, sediment, fault, sediment2])\n",
    "    model.compute_model()\n",
    "    return model\n",
    "\n",
    "model = generate_model()"
   ]
  },
  {
   "cell_type": "markdown",
   "metadata": {},
   "source": [
    "The Geomodel holds data in a few different forms. It has three mesh grid arrays X, Y, Z forming the set of points, an xyz array that is $n\\times3$ of the the $(x,y,z)$ points, and a final data array for the cell values of the rock. Some time snapshots that record the model states where rock assignments were applied are also stored in the Geomodel mesh_snapshots and data_snapshots. With the $0$ index position for the time of the snapshot."
   ]
  },
  {
   "cell_type": "code",
   "execution_count": 3,
   "metadata": {},
   "outputs": [
    {
     "name": "stdout",
     "output_type": "stream",
     "text": [
      "              Attribute            Shape\n",
      "0               model.X  (128, 128, 128)\n",
      "1               model.Y  (128, 128, 128)\n",
      "2               model.Z  (128, 128, 128)\n",
      "3             model.xyz     (2097152, 3)\n",
      "4            model.data       (2097152,)\n",
      "5  model.mesh_snapshots  (2, 2097152, 3)\n",
      "6  model.data_snapshots     (2, 2097152)\n"
     ]
    }
   ],
   "source": [
    "import pandas as pd\n",
    "# Collect shapes in a dictionary\n",
    "shape_dict = {\n",
    "    \"model.X\": model.X.shape,\n",
    "    \"model.Y\": model.Y.shape,\n",
    "    \"model.Z\": model.Z.shape,\n",
    "    \"model.xyz\": model.xyz.shape,\n",
    "    \"model.data\": model.data.shape,\n",
    "    \"model.mesh_snapshots\": model.mesh_snapshots.shape,\n",
    "    \"model.data_snapshots\": model.data_snapshots.shape\n",
    "}\n",
    "\n",
    "# Convert the dictionary to a pandas DataFrame\n",
    "shape_df = pd.DataFrame(list(shape_dict.items()), columns=[\"Attribute\", \"Shape\"])\n",
    "\n",
    "# Display the DataFrame\n",
    "print(shape_df)"
   ]
  },
  {
   "cell_type": "markdown",
   "metadata": {},
   "source": [
    "The data can be visualized with PyVista in a few different ways. A mesh approach over a structured grid assigns calculated data values aa point on an interconnected mesh. This differs from a true voxel representation since each of the sample points do not have any volume. The space between them is filled using interpolation which will produce non-categorical values.\n"
   ]
  },
  {
   "cell_type": "code",
   "execution_count": 4,
   "metadata": {},
   "outputs": [
    {
     "data": {
      "application/vnd.jupyter.widget-view+json": {
       "model_id": "90f2f63386714d60a52563f8141c0518",
       "version_major": 2,
       "version_minor": 0
      },
      "text/plain": [
       "Widget(value='<iframe src=\"http://localhost:50114/index.html?ui=P_0x22675159590_0&reconnect=auto\" class=\"pyvis…"
      ]
     },
     "metadata": {},
     "output_type": "display_data"
    }
   ],
   "source": [
    "# Meshgrid representation in Pyvista\n",
    "mesh = pv.StructuredGrid(model.X, model.Y, model.Z)\n",
    "# The data is not in the correct ordering though, so we shape back to 3D grid and then ravel to 1D\n",
    "mesh['Rock Type'] = model.data.reshape(model.X.shape).ravel(order='F')\n",
    "mesh = mesh.threshold(-1, all_scalars=True) # Filter out the nans\n",
    "\n",
    "# Plot the model mesh with interpolated values across mesh cells\n",
    "p = pv.Plotter(notebook=True)\n",
    "p.add_mesh(mesh, scalars='Rock Type', categories=True )\n",
    "p.add_bounding_box()\n",
    "p.show(jupyter_backend='client')"
   ]
  },
  {
   "cell_type": "markdown",
   "metadata": {},
   "source": [
    "On a more complicated model, the interpolation becomes apparent and produces image artifacts."
   ]
  },
  {
   "cell_type": "code",
   "execution_count": 5,
   "metadata": {},
   "outputs": [
    {
     "name": "stdout",
     "output_type": "stream",
     "text": [
      "Geological History:\n",
      "1: Bedrock: with z <= -1500.0 and value 0.0\n",
      "2: Sedimentation: rock type values [1, 2, 3...], and thicknesses 343.925, 142.882, 626.886....\n",
      "3: Fold: strike 109.5°, dip 32.3°, rake 268.0°, period 786.1,amplitude 7.5, origin (0.0, 0.0, 0.0).\n",
      "4: Fold: strike 72.3°, dip 65.4°, rake 112.4°, period 782.4,amplitude 14.6, origin (0.0, 0.0, 0.0).\n",
      "5: Fold: strike 200.7°, dip 9.1°, rake 73.5°, period 453.0,amplitude 13.6, origin (0.0, 0.0, 0.0).\n",
      "6: Fold: strike 144.0°, dip 118.3°, rake 119.2°, period 618.4,amplitude 14.3, origin (0.0, 0.0, 0.0).\n",
      "7: Fold: strike 30.0°, dip 70.0°, rake 15.0°, period 4000.0,amplitude 500.0, origin (0.0, 0.0, 0.0).\n",
      "8: UnconformityBase: base 0.0, value nan\n",
      "9: Fold: strike 30.0°, dip 70.0°, rake 15.0°, period 4000.0,amplitude -200.0, origin (0.0, 0.0, 0.0).\n",
      "10: Dike: strike 35.0°, dip 50.0°, width 10.0, origin (100.0, 200.0, 0.0), value 8.0.\n",
      "11: Dike: strike 37.0°, dip 47.0°, width 30.0, origin (100.0, -100.0, 0.0), value 9.0.\n",
      "12: Dike: strike 39.0°, dip 44.0°, width 50.0, origin (100.0, -489.2, 0.0), value 10.0.\n",
      "13: Dike: strike 41.0°, dip 41.0°, width 70.0, origin (100.0, -921.2, 0.0), value 11.0.\n",
      "14: Dike: strike 43.0°, dip 38.0°, width 90.0, origin (100.0, -1383.4, 0.0), value 12.0.\n",
      "15: Fault with strike 1718.9°, dip 70.0°, rake 45.0°, amplitude 500.0, origin (0, 0, 0).\n",
      "16: Tilt: strike -40.0°, dip 8.0°,origin (0.0, 0.0, 0.0)\n",
      "17: Sedimentation: rock type values [13, 14, 15], and thicknesses 155.000, 145.000, 110.000.\n",
      "18: Fold: strike 120.0°, dip 0.0°, rake 15.0°, period 8000.0,amplitude -500.0, origin (0.0, 0.0, 0.0).\n",
      "\n"
     ]
    }
   ],
   "source": [
    "import pickle as pkl\n",
    "model = geo.GeoModel\n",
    "with open('C:/Users/sghys/Summer2024/StructuralGeo/paper-image-generators/model_scale30_ar1_res128.pkl', 'rb') as f:\n",
    "    model = pkl.load(f)\n",
    "\n",
    "model.history[14].strike = 30  \n",
    "print(model.get_history_string())\n",
    "model.compute_model()\n"
   ]
  },
  {
   "cell_type": "code",
   "execution_count": 6,
   "metadata": {},
   "outputs": [
    {
     "data": {
      "application/vnd.jupyter.widget-view+json": {
       "model_id": "600295d6319a4ac7a6653e5fa6d50546",
       "version_major": 2,
       "version_minor": 0
      },
      "text/plain": [
       "Widget(value='<iframe src=\"http://localhost:50114/index.html?ui=P_0x22672f15a10_1&reconnect=auto\" class=\"pyvis…"
      ]
     },
     "metadata": {},
     "output_type": "display_data"
    }
   ],
   "source": [
    "# Meshgrid representation in Pyvista\n",
    "mesh = pv.StructuredGrid(model.X, model.Y, model.Z)\n",
    "# The data is not in the correct ordering though, so we shape back to 3D grid and then ravel to 1D\n",
    "mesh['Rock Type'] = model.data.reshape(model.X.shape).ravel(order='F')\n",
    "mesh = mesh.threshold(-1, all_scalars=True) # Filter out the nans\n",
    "\n",
    "# Plot the model mesh with interpolated values across mesh cells\n",
    "p = pv.Plotter(notebook=True)\n",
    "p.add_mesh(mesh, scalars='Rock Type', categories=True)\n",
    "p.add_bounding_box()\n",
    "p.show(jupyter_backend='client')"
   ]
  },
  {
   "cell_type": "markdown",
   "metadata": {},
   "source": [
    "A solution is to instead define a grid of *cells* where the data is assigned to a volume instead of a point. This is a voxel representation and does not require any interpolation to fill the volume. However, the cell array needs to be constructed from the model parameters. Note that when assigning data to a PyVista datatype, it can automatically deduce it it is for the points or the cells by matching the array size to the number of points or cells in the mesh."
   ]
  },
  {
   "cell_type": "code",
   "execution_count": 7,
   "metadata": {},
   "outputs": [
    {
     "data": {
      "application/vnd.jupyter.widget-view+json": {
       "model_id": "c576086dd5974620921218220d698a2d",
       "version_major": 2,
       "version_minor": 0
      },
      "text/plain": [
       "Widget(value='<iframe src=\"http://localhost:50114/index.html?ui=P_0x22607cbba50_2&reconnect=auto\" class=\"pyvis…"
      ]
     },
     "metadata": {},
     "output_type": "display_data"
    }
   ],
   "source": [
    "# Create a padded grid with n+1 nodes and node spacing equal to model sample spacing    \n",
    "dimensions = tuple(x + 1 for x in model.resolution)\n",
    "spacing = tuple((x[1] - x[0])/(r-1) for x,r in zip(model.bounds, model.resolution))\n",
    "# pad origin with a half cell size to center the grid\n",
    "origin = tuple(x[0] - cs/2 for x,cs in zip(model.bounds, spacing))\n",
    "# Create a structured grid with n+1 nodes in each dimension forming n^3 cells\n",
    "grid = pv.ImageData(\n",
    "    dimensions = dimensions,\n",
    "    spacing = spacing,\n",
    "    origin = origin,\n",
    ")    \n",
    "# Necessary to reshape data vector in Fortran order to match the grid\n",
    "grid['values'] = model.data.reshape(model.resolution).ravel(order='F')\n",
    "grid = grid.threshold(-.5, all_scalars=True)\n",
    "\n",
    "# The same functionality can be achieved with a library call\n",
    "grid = geovis.get_voxel_grid_from_model(model, threshold=-.5)\n",
    "\n",
    "p = pv.Plotter()\n",
    "p.add_mesh(grid, scalars='values', categories=True)\n",
    "p.add_bounding_box()\n",
    "p.show()"
   ]
  },
  {
   "cell_type": "code",
   "execution_count": 8,
   "metadata": {},
   "outputs": [
    {
     "data": {
      "text/html": [
       "\n",
       "        <table>\n",
       "            <tr><th style=\"text-align: left;\">Parameter</th><th style=\"text-align: left;\">Value</th></tr>\n",
       "            <tr><td>Name</td><td>model</td></tr>\n",
       "            <tr><td>Data Type</td><td><class 'numpy.float32'></td></tr>\n",
       "            <tr><td>Bounds</td><td>((-1920, 1920), (-1920, 1920), (-1920, 1920))</td></tr>\n",
       "            <tr><td>Resolution</td><td>(128, 128, 128)</td></tr>\n",
       "            <tr><td>History</td><td><div style='text-align: left;'><ol><li>Bedrock: with z <= -1500.0 and value 0.0</li><li>Sedimentation: rock type values [1, 2, 3...], and thicknesses 343.925, 142.882, 626.886....</li><li>Fold: strike 109.5°, dip 32.3°, rake 268.0°, period 786.1,amplitude 7.5, origin (0.0, 0.0, 0.0).</li><li>Fold: strike 72.3°, dip 65.4°, rake 112.4°, period 782.4,amplitude 14.6, origin (0.0, 0.0, 0.0).</li><li>Fold: strike 200.7°, dip 9.1°, rake 73.5°, period 453.0,amplitude 13.6, origin (0.0, 0.0, 0.0).</li><li>Fold: strike 144.0°, dip 118.3°, rake 119.2°, period 618.4,amplitude 14.3, origin (0.0, 0.0, 0.0).</li><li>Fold: strike 30.0°, dip 70.0°, rake 15.0°, period 4000.0,amplitude 500.0, origin (0.0, 0.0, 0.0).</li><li>UnconformityBase: base 0.0, value nan</li><li>Fold: strike 30.0°, dip 70.0°, rake 15.0°, period 4000.0,amplitude -200.0, origin (0.0, 0.0, 0.0).</li><li>Dike: strike 35.0°, dip 50.0°, width 10.0, origin (100.0, 200.0, 0.0), value 8.0.</li><li>Dike: strike 37.0°, dip 47.0°, width 30.0, origin (100.0, -100.0, 0.0), value 9.0.</li><li>Dike: strike 39.0°, dip 44.0°, width 50.0, origin (100.0, -489.2, 0.0), value 10.0.</li><li>Dike: strike 41.0°, dip 41.0°, width 70.0, origin (100.0, -921.2, 0.0), value 11.0.</li><li>Dike: strike 43.0°, dip 38.0°, width 90.0, origin (100.0, -1383.4, 0.0), value 12.0.</li><li>Fault with strike 1718.9°, dip 70.0°, rake 45.0°, amplitude 500.0, origin (0, 0, 0).</li><li>Tilt: strike -40.0°, dip 8.0°,origin (0.0, 0.0, 0.0)</li><li>Sedimentation: rock type values [13, 14, 15], and thicknesses 155.000, 145.000, 110.000.</li><li>Fold: strike 120.0°, dip 0.0°, rake 15.0°, period 8000.0,amplitude -500.0, origin (0.0, 0.0, 0.0).</li></ol></div></td></tr>\n",
       "        </table>\n",
       "        "
      ],
      "text/plain": [
       "GeoModel(name=model, bounds=((-1920, 1920), (-1920, 1920), (-1920, 1920)), resolution=(128, 128, 128))"
      ]
     },
     "execution_count": 8,
     "metadata": {},
     "output_type": "execute_result"
    }
   ],
   "source": [
    "model"
   ]
  }
 ],
 "metadata": {
  "kernelspec": {
   "display_name": "ml",
   "language": "python",
   "name": "python3"
  },
  "language_info": {
   "codemirror_mode": {
    "name": "ipython",
    "version": 3
   },
   "file_extension": ".py",
   "mimetype": "text/x-python",
   "name": "python",
   "nbconvert_exporter": "python",
   "pygments_lexer": "ipython3",
   "version": "3.11.9"
  }
 },
 "nbformat": 4,
 "nbformat_minor": 2
}
