{
 "cells": [
  {
   "cell_type": "markdown",
   "metadata": {},
   "source": [
    "# A record of generation variables for different models in the database folder\n",
    "Note that this uses a previous iteration of sedimentation that generated thicknesses and values at run time, rather than using a pre-generated list. This has been refactored to be more deterministic and reproducible."
   ]
  },
  {
   "cell_type": "code",
   "execution_count": 1,
   "metadata": {},
   "outputs": [],
   "source": [
    "import numpy as np\n",
    "import pyvista as pv\n",
    "\n",
    "import structgeo.model as geo\n",
    "import structgeo.plot as geovis\n",
    "import structgeo.probability as rv\n",
    "\n",
    "pv.set_jupyter_backend('client')"
   ]
  },
  {
   "cell_type": "markdown",
   "metadata": {},
   "source": [
    "## Goal:\n",
    "Make an interaface that will present generated models with a yes/no decision to save the model"
   ]
  },
  {
   "cell_type": "code",
   "execution_count": 2,
   "metadata": {},
   "outputs": [],
   "source": [
    "# Set random seed for reproducibility\n",
    "# random_seed = 1234\n",
    "# np.random.seed(random_seed)\n"
   ]
  },
  {
   "cell_type": "code",
   "execution_count": 3,
   "metadata": {},
   "outputs": [
    {
     "name": "stdout",
     "output_type": "stream",
     "text": [
      "Processing models in ../database/sedimentary_plane\n",
      "Sedimentation: rock type values [2, 3, 4...], and thicknesses 2.012, 1.237, 0.879..., with base = nan\n",
      "nan\n"
     ]
    },
    {
     "data": {
      "application/vnd.jupyter.widget-view+json": {
       "model_id": "0776db9671d840e9b6a4758cd554602e",
       "version_major": 2,
       "version_minor": 0
      },
      "text/plain": [
       "Widget(value='<iframe src=\"http://localhost:53133/index.html?ui=P_0x2114a7ad7d0_0&reconnect=auto\" class=\"pyvis…"
      ]
     },
     "metadata": {},
     "output_type": "display_data"
    }
   ],
   "source": [
    "from structgeo.filemanagement import FileManager\n",
    "\n",
    "# Display the last saved model\n",
    "fm = FileManager(\"../database/sedimentary_plane\")\n",
    "models = fm.load_all_models()\n",
    "model = models[-2]\n",
    "sed = model.history[1]\n",
    "print(sed)\n",
    "print(sed.base)\n",
    "model.compute_model()\n",
    "geovis.volview(model).show(window_size=[600, 400])\n",
    "\n"
   ]
  },
  {
   "cell_type": "markdown",
   "metadata": {},
   "source": [
    "## Sedimentary Plane"
   ]
  },
  {
   "cell_type": "code",
   "execution_count": 4,
   "metadata": {},
   "outputs": [
    {
     "name": "stdout",
     "output_type": "stream",
     "text": [
      "Model created with bounds (-10, 10) and resolution 128\n"
     ]
    },
    {
     "data": {
      "application/vnd.jupyter.widget-view+json": {
       "model_id": "ec0b8933574b4da3a370b04f6badf41b",
       "version_major": 2,
       "version_minor": 0
      },
      "text/plain": [
       "HBox(children=(Button(description='Save Model', style=ButtonStyle()), Button(description='Discard Model', styl…"
      ]
     },
     "metadata": {},
     "output_type": "display_data"
    },
    {
     "data": {
      "application/vnd.jupyter.widget-view+json": {
       "model_id": "c5ab0c8b619c4052a963c15f589e923d",
       "version_major": 2,
       "version_minor": 0
      },
      "text/plain": [
       "Output()"
      ]
     },
     "metadata": {},
     "output_type": "display_data"
    }
   ],
   "source": [
    "from structgeo.plot import ModelReviewer\n",
    "\n",
    "DEFAULT_BASE_DIR = \"../database/sedimentary_plane\"\n",
    "\n",
    "# Start with some model specifications\n",
    "resolution = 128\n",
    "# Cubic model keeps \n",
    "max_x = 10\n",
    "min_x = - max_x\n",
    "model_size = max_x - min_x\n",
    "bounds = (min_x,max_x)\n",
    "model = geo.GeoModel(bounds, resolution)\n",
    "print(f\"Model created with bounds {bounds} and resolution {resolution}\")\n",
    "\n",
    "def generate_model():\n",
    "    # Place the model generation logic here\n",
    "    base = min_x + model_size*np.clip(np.random.normal(.15, .2), -.25, .35)\n",
    "    \n",
    "    layer_builder = geo.SedimentBuilder(start_value = 2, total_thickness=7.5, min_layers= 3, max_layers=10)\n",
    "    \n",
    "    bedrock = geo.Bedrock(base, 0)\n",
    "    sediment = geo.Sedimentation(*layer_builder.get_layers())\n",
    "    \n",
    "    # Add micro fold noise to the model\n",
    "    def fold_params():\n",
    "        wave_generator = rv.FourierWaveGenerator(num_harmonics=5, smoothness=.8)\n",
    "        return {\n",
    "            'strike': np.random.uniform(0, 360),\n",
    "            'dip': np.random.uniform(0, 360),\n",
    "            'rake': np.random.uniform(0, 360),\n",
    "            'period': np.random.uniform(.5, 10),\n",
    "            'amplitude': np.random.uniform(.04, .08),\n",
    "            'periodic_func': wave_generator.generate()\n",
    "        }\n",
    "    sediment_noise = [geo.Fold(**fold_params()) for _ in range(np.random.randint(3, 7))]\n",
    "    # Add macro fold noise to the model\n",
    "    def fold_params2():\n",
    "        return {\n",
    "            'strike': np.random.uniform(0, 360),\n",
    "            'dip': np.random.uniform(0, 360),\n",
    "            'rake': np.random.uniform(0, 360),\n",
    "            'period': np.random.uniform(30, 60),\n",
    "            'amplitude': np.random.uniform(1.2),\n",
    "            'periodic_func': None,\n",
    "            'shape': np.random.uniform(0, 2)\n",
    "        }\n",
    "    geo_noise = [geo.Fold(**fold_params2()) for _ in range(np.random.randint(1, 3))]\n",
    "\n",
    "    model.clear_history()\n",
    "    model.add_history([bedrock, sediment] + sediment_noise + geo_noise)\n",
    "    model.compute_model()\n",
    "    return model\n",
    "\n",
    "\n",
    "reviewer = ModelReviewer(generate_model_func=generate_model, base_dir=DEFAULT_BASE_DIR)\n",
    "reviewer.start_review()"
   ]
  },
  {
   "cell_type": "markdown",
   "metadata": {},
   "source": [
    "# Sedimentary Plane with Dikes"
   ]
  },
  {
   "cell_type": "code",
   "execution_count": 5,
   "metadata": {},
   "outputs": [
    {
     "name": "stdout",
     "output_type": "stream",
     "text": [
      "Model created with bounds (-10, 10) and resolution 128\n"
     ]
    }
   ],
   "source": [
    "from structgeo.plot import ModelReviewer\n",
    "\n",
    "DEFAULT_BASE_DIR = \"../database/sedimentary_plane_dikes\"\n",
    "\n",
    "# Start with some model specifications\n",
    "resolution = 128\n",
    "# Cubic model keeps \n",
    "max_x = 10\n",
    "min_x = - max_x\n",
    "model_size = max_x - min_x\n",
    "bounds = (min_x,max_x)\n",
    "model = geo.GeoModel(bounds, resolution)\n",
    "print(f\"Model created with bounds {bounds} and resolution {resolution}\")\n",
    "\n",
    "def generate_model():\n",
    "    # Place the model generation logic here\n",
    "    base = min_x + model_size*np.clip(np.random.normal(.15, .2), -.25, .35)\n",
    "\n",
    "    layer_builder = geo.SedimentBuilder(start_value = 2, total_thickness=7.5, min_layers= 3, max_layers=10)\n",
    "    \n",
    "    bedrock = geo.Bedrock(base, 0)\n",
    "    sediment = geo.Sedimentation(*layer_builder.get_layers())\n",
    "    \n",
    "    # Add micro fold noise to the model\n",
    "    def fold_params():\n",
    "        wave_generator = rv.FourierWaveGenerator(num_harmonics=5, smoothness=.8)\n",
    "        return {\n",
    "            'strike': np.random.uniform(0, 360),\n",
    "            'dip': np.random.uniform(0, 360),\n",
    "            'rake': np.random.uniform(0, 360),\n",
    "            'period': np.random.uniform(.5, 10),\n",
    "            'amplitude': np.random.uniform(.04, .08),\n",
    "            'periodic_func': wave_generator.generate()\n",
    "        }\n",
    "    sediment_noise = [geo.Fold(**fold_params()) for _ in range(np.random.randint(3, 7))]\n",
    "    \n",
    "    # Recover the last layer of rock\n",
    "    last_val = layer_builder.get_last_value()\n",
    "\n",
    "    # Add macro fold noise to the model\n",
    "    def fold_params2():\n",
    "        return {\n",
    "            'strike': np.random.uniform(0, 360),\n",
    "            'dip': np.random.uniform(0, 360),\n",
    "            'rake': np.random.uniform(0, 360),\n",
    "            'period': np.random.uniform(30, 60),\n",
    "            'amplitude': np.random.uniform(1.2),\n",
    "            'periodic_func': None,\n",
    "            'shape': np.random.uniform(0, 2)\n",
    "        }\n",
    "    geo_noise = [geo.Fold(**fold_params2()) for _ in range(np.random.randint(1, 3))]\n",
    "\n",
    "\n",
    "    n_dikes = 2\n",
    "    dike_rock_val = last_val+1\n",
    "    def dike_params():\n",
    "        return {\n",
    "            'strike': np.random.uniform(0, 360),\n",
    "            'dip': np.random.normal(90, 25),\n",
    "            'width': np.random.uniform(.05, 1),\n",
    "            'origin': rv.random_point_in_ellipsoid(model.bounds),\n",
    "            'value': dike_rock_val\n",
    "        }\n",
    "    params = dike_params()\n",
    "    dike1 = geo.Dike(**params)\n",
    "    \n",
    "    noise_std = {\n",
    "    'strike': 5,  # Noise standard deviation for 'strike'\n",
    "    'dip': 5,     # Noise standard deviation for 'dip'\n",
    "    'width': 0.4,  # Noise standard deviation for 'width'\n",
    "    'origin': 1    # Noise standard deviation for 'origin'\n",
    "}\n",
    "    \n",
    "    additional_dikes = []\n",
    "    for i in range(n_dikes-1):\n",
    "        width = params['width']\n",
    "        dike_gap = (i+1)*(np.random.lognormal(.5, .5))\n",
    "        strike_radians = np.deg2rad(params['strike'])\n",
    "        print(f\"Strike: {params['strike']}\")\n",
    "        gap_dir = np.array([np.cos(strike_radians), -np.sin(strike_radians), 0]) * dike_gap\n",
    "        print(f\"Gap direction: {gap_dir}\")\n",
    "        params['origin'] += gap_dir\n",
    "        params['width'] += np.random.normal(0, noise_std['width'])\n",
    "        params['strike'] += np.random.normal(0, noise_std['strike'])\n",
    "        params['dip'] += np.random.normal(0, noise_std['dip'])\n",
    "        # params['value'] += 1\n",
    "        additional_dikes.append(geo.Dike(**params))\n",
    "    \n",
    "    model.clear_history()    \n",
    "    model.add_history([bedrock] + [sediment] + sediment_noise + geo_noise  + [dike1]+ additional_dikes )\n",
    "    model.compute_model()\n",
    "    return model"
   ]
  },
  {
   "cell_type": "code",
   "execution_count": 6,
   "metadata": {},
   "outputs": [
    {
     "data": {
      "application/vnd.jupyter.widget-view+json": {
       "model_id": "cd3cf96aaca04bafaa60b20a8be87f6b",
       "version_major": 2,
       "version_minor": 0
      },
      "text/plain": [
       "HBox(children=(Button(description='Save Model', style=ButtonStyle()), Button(description='Discard Model', styl…"
      ]
     },
     "metadata": {},
     "output_type": "display_data"
    },
    {
     "name": "stdout",
     "output_type": "stream",
     "text": [
      "Strike: 245.61992786723158\n",
      "Gap direction: [-1.85850723  4.10084712  0.        ]\n"
     ]
    },
    {
     "data": {
      "application/vnd.jupyter.widget-view+json": {
       "model_id": "f62fdc20fca5479b9f521d65a5af5f5b",
       "version_major": 2,
       "version_minor": 0
      },
      "text/plain": [
       "Output()"
      ]
     },
     "metadata": {},
     "output_type": "display_data"
    }
   ],
   "source": [
    "reviewer = ModelReviewer(generate_model_func=generate_model, base_dir=DEFAULT_BASE_DIR)\n",
    "reviewer.start_review()"
   ]
  },
  {
   "cell_type": "markdown",
   "metadata": {},
   "source": [
    "### Tilted Sedimentary Planes, with and without Dikes"
   ]
  },
  {
   "cell_type": "code",
   "execution_count": 7,
   "metadata": {},
   "outputs": [
    {
     "name": "stdout",
     "output_type": "stream",
     "text": [
      "Model created with bounds (-10, 10) and resolution 128\n"
     ]
    }
   ],
   "source": [
    "from structgeo.plot import ModelReviewer\n",
    "\n",
    "DEFAULT_BASE_DIR = \"../database/tilted_sedimentary_plane_vardikes\"\n",
    "\n",
    "# Start with some model specifications\n",
    "resolution = 128\n",
    "# Cubic model keeps \n",
    "max_x = 10\n",
    "min_x = - max_x\n",
    "model_size = max_x - min_x\n",
    "bounds = (min_x,max_x)\n",
    "model = geo.GeoModel(bounds, resolution)\n",
    "print(f\"Model created with bounds {bounds} and resolution {resolution}\")\n",
    "\n",
    "\n",
    "def generate_model():\n",
    "    # Place the model generation logic here\n",
    "    base = min_x + model_size*np.clip(np.random.normal(.15, .2), -.25, .35)\n",
    "\n",
    "    layer_builder = geo.SedimentBuilder(start_value = 2, total_thickness=7.5, min_layers= 3, max_layers=10)\n",
    "    \n",
    "    bedrock = geo.Bedrock(base, 0)\n",
    "    sediment = geo.Sedimentation(*layer_builder.get_layers())\n",
    "    \n",
    "    # Add micro fold noise to the model\n",
    "    def fold_params():\n",
    "        wave_generator = rv.FourierWaveGenerator(num_harmonics=5, smoothness=.8)\n",
    "        return {            \n",
    "            'strike': np.random.uniform(0, 360),\n",
    "            'dip': np.random.uniform(0, 360),\n",
    "            'rake': np.random.uniform(0, 360),\n",
    "            'period': np.random.uniform(.5, 10),\n",
    "            'amplitude': np.random.uniform(.04, .08),\n",
    "            'periodic_func': wave_generator.generate()\n",
    "        }\n",
    "    sediment_noise = [geo.Fold(**fold_params()) for _ in range(np.random.randint(3, 7))]\n",
    "    \n",
    "    # Recover the last layer of rock\n",
    "    last_val = layer_builder.get_last_value()\n",
    "\n",
    "    # Add macro fold noise to the model\n",
    "    def fold_params2():\n",
    "        wave_generator = rv.FourierWaveGenerator(num_harmonics=5, smoothness=1)\n",
    "        return {\n",
    "            'strike': np.random.uniform(0, 360),\n",
    "            'dip': np.random.uniform(0, 360),\n",
    "            'rake': np.random.uniform(0, 360),\n",
    "            'period': np.random.uniform(15, 60),\n",
    "            'amplitude': np.random.uniform(4),\n",
    "            'periodic_func': wave_generator.generate(),\n",
    "            'shape': np.random.uniform(0, 2)\n",
    "        }\n",
    "    geo_noise = [geo.Fold(**fold_params2()) for _ in range(np.random.randint(1, 3))]\n",
    "\n",
    "    n_dikes = 4\n",
    "    dike_rock_val = last_val+1\n",
    "    def dike_params():\n",
    "        return {\n",
    "            'strike': np.random.uniform(0, 360),\n",
    "            'dip': np.random.normal(90, 25),\n",
    "            'width': np.random.uniform(.05, 1),\n",
    "            'origin': rv.random_point_in_ellipsoid(model.bounds),\n",
    "            'value': dike_rock_val\n",
    "        }\n",
    "    params = dike_params()\n",
    "    \n",
    "    dike1 = [geo.Dike(**params)] if n_dikes > 0 else []\n",
    "\n",
    "    noise_std = {\n",
    "    'strike': 5,  # Noise standard deviation for 'strike'\n",
    "    'dip': 5,     # Noise standard deviation for 'dip'\n",
    "    'width': 0.4,  # Noise standard deviation for 'width'\n",
    "    'origin': 1    # Noise standard deviation for 'origin'\n",
    "}\n",
    "    \n",
    "    additional_dikes = []\n",
    "    for i in range(n_dikes-1):\n",
    "        dike_gap = (i+1)*(np.random.lognormal(.5, .5))\n",
    "        strike_radians = np.deg2rad(params['strike'])\n",
    "        print(f\"Strike: {params['strike']}\")\n",
    "        gap_dir = np.array([np.cos(strike_radians), -np.sin(strike_radians), 0]) * dike_gap\n",
    "        print(f\"Gap direction: {gap_dir}\")\n",
    "        params['origin'] += gap_dir\n",
    "        params['width'] += np.random.normal(0, noise_std['width'])\n",
    "        params['strike'] += np.random.normal(0, noise_std['strike'])\n",
    "        params['dip'] += np.random.normal(0, noise_std['dip'])\n",
    "        # params['value'] += 1\n",
    "        additional_dikes.append(geo.Dike(**params))\n",
    "     \n",
    "    tilt_params = {\n",
    "        'strike': np.random.uniform(0, 360),\n",
    "        'dip': np.random.uniform(0, 30),\n",
    "    }    \n",
    "    tilt = geo.Tilt(**tilt_params)\n",
    "    \n",
    "    model.clear_history()    \n",
    "    model.add_history([bedrock]+ dike1+ additional_dikes + [sediment] +  sediment_noise + geo_noise + [tilt] )\n",
    "    model.compute_model()\n",
    "    return model"
   ]
  },
  {
   "cell_type": "code",
   "execution_count": 8,
   "metadata": {},
   "outputs": [
    {
     "data": {
      "application/vnd.jupyter.widget-view+json": {
       "model_id": "b297b5c9abf04b05a29c3c8814d53b33",
       "version_major": 2,
       "version_minor": 0
      },
      "text/plain": [
       "HBox(children=(Button(description='Save Model', style=ButtonStyle()), Button(description='Discard Model', styl…"
      ]
     },
     "metadata": {},
     "output_type": "display_data"
    },
    {
     "name": "stdout",
     "output_type": "stream",
     "text": [
      "Strike: 199.98608444588461\n",
      "Gap direction: [-1.71104612  0.62229928  0.        ]\n",
      "Strike: 203.03125025715588\n",
      "Gap direction: [-2.95986223  1.25829266  0.        ]\n",
      "Strike: 198.34277575332138\n",
      "Gap direction: [-4.18276294  1.38678175  0.        ]\n"
     ]
    },
    {
     "data": {
      "application/vnd.jupyter.widget-view+json": {
       "model_id": "da3fd4c3f9694953ab33280e8a840948",
       "version_major": 2,
       "version_minor": 0
      },
      "text/plain": [
       "Output()"
      ]
     },
     "metadata": {},
     "output_type": "display_data"
    }
   ],
   "source": [
    "reviewer = ModelReviewer(generate_model_func=generate_model, base_dir=DEFAULT_BASE_DIR)\n",
    "reviewer.start_review()"
   ]
  },
  {
   "cell_type": "markdown",
   "metadata": {},
   "source": [
    "### Second Sedimentation"
   ]
  },
  {
   "cell_type": "code",
   "execution_count": 9,
   "metadata": {},
   "outputs": [
    {
     "name": "stdout",
     "output_type": "stream",
     "text": [
      "Model created with bounds (-10, 10) and resolution 128\n"
     ]
    }
   ],
   "source": [
    "from structgeo.plot import ModelReviewer\n",
    "\n",
    "DEFAULT_BASE_DIR = \"../database/second_sedimenation\"\n",
    "\n",
    "# Start with some model specifications\n",
    "resolution = 128\n",
    "# Cubic model keeps \n",
    "max_x = 10\n",
    "min_x = - max_x\n",
    "model_size = max_x - min_x\n",
    "bounds = (min_x,max_x)\n",
    "model = geo.GeoModel(bounds, resolution)\n",
    "print(f\"Model created with bounds {bounds} and resolution {resolution}\")\n",
    "\n",
    "# Start rock vals from 5 to give space for adding dikes without knowing sedimentation values\n",
    "def generate_model():\n",
    "    # Place the model generation logic here\n",
    "    base = min_x + np.random.normal(1, 1)\n",
    "    height = 2 + np.random.normal(1, 1)    \n",
    "    layer_builder = geo.SedimentBuilder(start_value = 5, total_thickness=height, min_layers= 4, max_layers=10)\n",
    "    \n",
    "    next_rock_val = 0\n",
    "\n",
    "    bedrock = geo.Bedrock(base, next_rock_val)\n",
    "    sediment = geo.Sedimentation(*layer_builder.get_layers())\n",
    "\n",
    "    next_rock_val = layer_builder.get_last_value() + 1\n",
    "    \n",
    "    # Add micro fold noise to the model\n",
    "    def noise_fold_params():\n",
    "        wave_generator = rv.FourierWaveGenerator(num_harmonics=5, smoothness=.8)\n",
    "        return {            \n",
    "            'strike': np.random.uniform(0, 360),\n",
    "            'dip': np.random.uniform(0, 360),\n",
    "            'rake': np.random.uniform(0, 360),\n",
    "            'period': np.random.uniform(.5, 10),\n",
    "            'amplitude': np.random.uniform(.04, .08),\n",
    "            'periodic_func': wave_generator.generate()\n",
    "        }\n",
    "    sediment_noise = [geo.Fold(**noise_fold_params()) for _ in range(np.random.randint(3, 7))]\n",
    "    \n",
    "    # Add macro fold noise to the model\n",
    "    def fold_params2():\n",
    "        return {\n",
    "            'strike': np.random.uniform(0, 360),\n",
    "            'dip': np.random.uniform(0, 360),\n",
    "            'rake': np.random.uniform(0, 360),\n",
    "            'period': np.random.uniform(10, 60),\n",
    "            'amplitude': np.random.uniform(.1,2),\n",
    "            'periodic_func': None,\n",
    "            'shape': np.random.uniform(0, 2)\n",
    "        }\n",
    "    geo_noise = [geo.Fold(**fold_params2()) for _ in range(np.random.randint(1, 3))]\n",
    "    \n",
    "    tilt_params = {\n",
    "        'strike': np.random.uniform(0, 360),\n",
    "        'dip': np.random.uniform(0, 30),\n",
    "    }    \n",
    "    tilt = geo.Tilt(**tilt_params)\n",
    "    \n",
    "    # Second Sedimentation\n",
    "    base = min_x + model_size*np.clip(np.random.normal(.15, .2), -.25, .35)\n",
    "    height = min_x + model_size/2 + np.random.normal(1, model_size / 8)\n",
    "    height = max(height, base + model_size/10)\n",
    "        \n",
    "    layer_builder2 = geo.SedimentBuilder(start_value = next_rock_val, total_thickness=height-base, min_layers= 4, max_layers=10)\n",
    "    \n",
    "    sediment2 = geo.Sedimentation(*layer_builder2.get_layers()) \n",
    "    next_rock_val = layer_builder2.get_last_value() + 1  \n",
    "        \n",
    "    sediment_noise2 = [geo.Fold(**noise_fold_params()) for _ in range(np.random.randint(3, 4))]\n",
    "    geo_noise2 = [geo.Fold(**fold_params2()) for _ in range(np.random.randint(1, 3))]\n",
    "    \n",
    "    # Start at 0 \n",
    "    dike_rock_val = next_rock_val\n",
    "    def dike_params():\n",
    "        return {\n",
    "            'strike': np.random.uniform(0, 360),\n",
    "            'dip': np.random.normal(90, 25),\n",
    "            'width': np.random.uniform(.5, 1),\n",
    "            'origin': rv.random_point_in_ellipsoid(model.bounds),\n",
    "            'value': dike_rock_val\n",
    "        }\n",
    "        \n",
    "    noise_std = {\n",
    "    'strike': 5,  # Noise standard deviation for 'strike'\n",
    "    'dip': 5,     # Noise standard deviation for 'dip'\n",
    "    'width': 0.4,  # Noise standard deviation for 'width'\n",
    "    'origin': 1    # Noise standard deviation for 'origin'\n",
    "}   \n",
    "    \n",
    "    n_dikes = 3\n",
    "    params = dike_params()\n",
    "    dikes = []    \n",
    "    for i in range(n_dikes):\n",
    "        width = params['width']\n",
    "        dike_gap = (i)*(np.random.lognormal(.5, .5))\n",
    "        strike_radians = np.deg2rad(params['strike'])\n",
    "        print(f\"Strike: {params['strike']}\")\n",
    "        gap_dir = np.array([np.cos(strike_radians), -np.sin(strike_radians), 0]) * dike_gap\n",
    "        print(f\"Gap direction: {gap_dir}\")\n",
    "        params['origin'] += gap_dir\n",
    "        params['width'] += np.random.normal(0, noise_std['width'])\n",
    "        params['strike'] += np.random.normal(0, noise_std['strike'])\n",
    "        params['dip'] += np.random.normal(0, noise_std['dip'])\n",
    "        # params['value'] += 1\n",
    "        dikes.append(geo.Dike(**params))\n",
    "\n",
    "    model.clear_history()\n",
    "    model.add_history([bedrock, sediment]  + geo_noise + [tilt] + [sediment2] + geo_noise2 + dikes + sediment_noise2 )\n",
    "\n",
    "    model.compute_model()\n",
    "    return model\n"
   ]
  },
  {
   "cell_type": "code",
   "execution_count": 10,
   "metadata": {},
   "outputs": [
    {
     "data": {
      "application/vnd.jupyter.widget-view+json": {
       "model_id": "7d00e748c83c45968a20da212dd2bc64",
       "version_major": 2,
       "version_minor": 0
      },
      "text/plain": [
       "HBox(children=(Button(description='Save Model', style=ButtonStyle()), Button(description='Discard Model', styl…"
      ]
     },
     "metadata": {},
     "output_type": "display_data"
    },
    {
     "name": "stdout",
     "output_type": "stream",
     "text": [
      "Strike: 181.69782486817445\n",
      "Gap direction: [-0.  0.  0.]\n",
      "Strike: 179.17146111689232\n",
      "Gap direction: [-2.09359134 -0.03027697  0.        ]\n",
      "Strike: 179.1406676806768\n",
      "Gap direction: [-2.80824457 -0.04212171  0.        ]\n"
     ]
    },
    {
     "data": {
      "application/vnd.jupyter.widget-view+json": {
       "model_id": "6e52a8c389b54068b73df6bcf7d978dd",
       "version_major": 2,
       "version_minor": 0
      },
      "text/plain": [
       "Output()"
      ]
     },
     "metadata": {},
     "output_type": "display_data"
    }
   ],
   "source": [
    "reviewer = ModelReviewer(generate_model_func=generate_model, base_dir=DEFAULT_BASE_DIR)\n",
    "reviewer.start_review()"
   ]
  },
  {
   "cell_type": "code",
   "execution_count": 11,
   "metadata": {},
   "outputs": [
    {
     "name": "stdout",
     "output_type": "stream",
     "text": [
      "Model created with bounds (-10, 10) and resolution 128\n",
      "Processing models in ../database\n",
      "Target height: 7.013367893164332\n"
     ]
    }
   ],
   "source": [
    "import numpy as np\n",
    "import pyvista as pv\n",
    "import copy\n",
    "import itertools\n",
    "\n",
    "import structgeo.model as geo\n",
    "import structgeo.plot as geovis\n",
    "import structgeo.probability as rv\n",
    "from structgeo.filemanagement import FileManager\n",
    "from structgeo.plot import ModelReviewer\n",
    "\n",
    "\n",
    "LOAD_FOLDER = \"../database\"\n",
    "DEFAULT_BASE_DIR = \"../augmented_sediment_models\"\n",
    "\n",
    "# Start with some model specifications\n",
    "resolution = 128\n",
    "# Cubic model keeps \n",
    "max_x = 10\n",
    "min_x = - max_x\n",
    "model_size = max_x - min_x\n",
    "bounds = (min_x,max_x)\n",
    "model = geo.GeoModel(bounds, resolution)\n",
    "print(f\"Model created with bounds {bounds} and resolution {resolution}\")\n",
    "\n",
    "# Load an existing model from file\n",
    "models = FileManager(LOAD_FOLDER).load_all_models()\n",
    "    # Select a random model from the loaded models and make a deep copy\n",
    "model_cycler = itertools.cycle(models[170:-1])\n",
    "\n",
    "def generate_model():\n",
    "\n",
    "    model = copy.deepcopy(next(model_cycler))\n",
    "    rotation_axis = (np.random.uniform(0,.15) ,np.random.uniform(0,.15),1)\n",
    "    rotation_amount = np.random.uniform(0, 360)\n",
    "    rotate = geo.Rotate(rotation_axis, rotation_amount)\n",
    "    # make a random 3D shift vector\n",
    "    shift_vector = (np.random.normal(0,3), np.random.normal(0,3), np.random.normal(0,3))\n",
    "    shift = geo.Shift(shift_vector)\n",
    "    model.add_history([rotate, shift])\n",
    "    model.compute_model()\n",
    "    bounds = model.get_z_bounds()\n",
    "    zmin, zmax = bounds\n",
    "    z_range = zmax - zmin\n",
    "    target_height = zmin + z_range*np.random.normal(.8, .05)    \n",
    "    print(f\"Target height: {target_height}\")\n",
    "    model.renormalize_height(target_height)\n",
    "    return model\n",
    "\n",
    "model = generate_model()\n"
   ]
  },
  {
   "cell_type": "code",
   "execution_count": 12,
   "metadata": {},
   "outputs": [
    {
     "data": {
      "application/vnd.jupyter.widget-view+json": {
       "model_id": "87abc1b529054347912721b9c19a39da",
       "version_major": 2,
       "version_minor": 0
      },
      "text/plain": [
       "HBox(children=(Button(description='Save Model', style=ButtonStyle()), Button(description='Discard Model', styl…"
      ]
     },
     "metadata": {},
     "output_type": "display_data"
    },
    {
     "name": "stdout",
     "output_type": "stream",
     "text": [
      "Target height: 5.942371004366079\n"
     ]
    },
    {
     "data": {
      "application/vnd.jupyter.widget-view+json": {
       "model_id": "1c1522f62cf943089b423827878c8c33",
       "version_major": 2,
       "version_minor": 0
      },
      "text/plain": [
       "Output()"
      ]
     },
     "metadata": {},
     "output_type": "display_data"
    }
   ],
   "source": [
    "reviewer = ModelReviewer(generate_model_func=generate_model, base_dir=DEFAULT_BASE_DIR)\n",
    "reviewer.start_review()"
   ]
  },
  {
   "cell_type": "markdown",
   "metadata": {},
   "source": [
    "# Add fault/ shear/ slip"
   ]
  },
  {
   "cell_type": "code",
   "execution_count": 13,
   "metadata": {},
   "outputs": [
    {
     "name": "stdout",
     "output_type": "stream",
     "text": [
      "Processing models in ../database\n",
      "(0, 0, 0, 0)\n"
     ]
    },
    {
     "data": {
      "image/jpeg": "[encoded data removed]",
      "image/png": "[encoded data removed]",
      "text/plain": [
       "<PIL.Image.Image image mode=RGB size=600x400>"
      ]
     },
     "metadata": {},
     "output_type": "display_data"
    },
    {
     "data": {
      "text/plain": [
       "<pyvista.plotting.plotter.Plotter at 0x2114d39a4d0>"
      ]
     },
     "execution_count": 13,
     "metadata": {},
     "output_type": "execute_result"
    }
   ],
   "source": [
    "import numpy as np\n",
    "import pyvista as pv\n",
    "import copy\n",
    "\n",
    "import structgeo.model as geo\n",
    "import structgeo.plot as geovis\n",
    "import structgeo.probability as rv\n",
    "from structgeo.filemanagement import FileManager\n",
    "from structgeo.plot import ModelReviewer\n",
    "pv.set_jupyter_backend('static')\n",
    "\n",
    "LOAD_FOLDER = \"../database\"\n",
    "DEFAULT_BASE_DIR = \"../sheared_models\"\n",
    "\n",
    "# Start with some model specifications\n",
    "resolution = 128\n",
    "# Cubic model keeps \n",
    "max_x = 10\n",
    "min_x = - max_x\n",
    "model_size = max_x - min_x\n",
    "bounds = (min_x,max_x)\n",
    "model = geo.GeoModel(bounds, resolution)\n",
    "\n",
    "# Load an existing model from file\n",
    "models = FileManager(LOAD_FOLDER).load_all_models()\n",
    "\n",
    "# Single model loader\n",
    "#models = FileManager(\"../faulted_models\").load_all_models()\n",
    "\n",
    "# Select a random model from the loaded models and make a deep copy\n",
    "model = np.random.choice(models)\n",
    "demo_model = models\n",
    "\n",
    "def get_history():\n",
    "    \"\"\" Make an appended slip based history to add\"\"\"\n",
    "\n",
    "    def fault_sequence(n_faults):\n",
    "        # Random fault line\n",
    "        strike = np.random.uniform(0, 360)\n",
    "        dip = np.random.normal(80,20)\n",
    "        rake = np.random.uniform(0, 180)\n",
    "        amplitude = np.random.normal(.2,.3)\n",
    "        origin = rv.random_point_in_ellipsoid(model.bounds)    \n",
    "        strike_radians = np.deg2rad(strike)\n",
    "        gap_dir = np.array([np.cos(strike_radians), -np.sin(strike_radians), 0])\n",
    "        \n",
    "        def parameters():\n",
    "            params = {\n",
    "            'strike': strike + np.random.normal(0, 5),\n",
    "            'dip': dip + np.random.normal(0, 5),\n",
    "            'rake': rake + np.random.uniform(0, 7),\n",
    "            'amplitude': amplitude + np.random.normal(0, .2),\n",
    "            # 'steepness': np.random.normal(3,1),\n",
    "            'origin': origin + np.random.normal(.2, .2)*gap_dir,\n",
    "        }\n",
    "            return params\n",
    "    \n",
    "        faults = []\n",
    "        for _ in range(n_faults):\n",
    "            params = parameters()\n",
    "            faults.append(geo.Fault(**params))            \n",
    "        return faults\n",
    "    \n",
    "    n_faults = 3\n",
    "    return fault_sequence(n_faults)\n",
    "\n",
    "def generate_model():\n",
    "    # Select a random model from the loaded models and make a deep copy\n",
    "    demo_model = np.random.choice(models)\n",
    "    model = copy.deepcopy(demo_model)   \n",
    "    \n",
    "    # Shuffle the view a bit\n",
    "    rotation_axis = (np.random.uniform(0,.05) ,np.random.uniform(0,.05),1)\n",
    "    rotation_amount = np.random.uniform(0, 360)\n",
    "    rotate = geo.Rotate(rotation_axis, rotation_amount)\n",
    "    shift_vector = (np.random.normal(0,1), np.random.normal(0,1), np.random.normal(0,1))\n",
    "    shift = geo.Shift(shift_vector)\n",
    "    model.add_history([rotate, shift])\n",
    "    \n",
    "    # Add some fault history\n",
    "    model.add_history(get_history())\n",
    "    model.compute_model()\n",
    "    model.renormalize_height(auto = True)\n",
    "    return model\n",
    "\n",
    "model = generate_model()\n",
    "print(np.shape(model.snapshots))\n",
    "\n",
    "geovis.volview(model).show(window_size=[600, 400])\n",
    "geovis.transformationview(model)"
   ]
  },
  {
   "cell_type": "code",
   "execution_count": 14,
   "metadata": {},
   "outputs": [
    {
     "data": {
      "application/vnd.jupyter.widget-view+json": {
       "model_id": "9d9f2058c8bb49bcb3cf01567e00aa90",
       "version_major": 2,
       "version_minor": 0
      },
      "text/plain": [
       "HBox(children=(Button(description='Save Model', style=ButtonStyle()), Button(description='Discard Model', styl…"
      ]
     },
     "metadata": {},
     "output_type": "display_data"
    },
    {
     "data": {
      "application/vnd.jupyter.widget-view+json": {
       "model_id": "f49b6237f6e241f3916fc6f58183c5c1",
       "version_major": 2,
       "version_minor": 0
      },
      "text/plain": [
       "Output()"
      ]
     },
     "metadata": {},
     "output_type": "display_data"
    }
   ],
   "source": [
    "reviewer = ModelReviewer(generate_model_func=generate_model, base_dir=DEFAULT_BASE_DIR)\n",
    "reviewer.start_review()"
   ]
  }
 ],
 "metadata": {
  "kernelspec": {
   "display_name": "gnns",
   "language": "python",
   "name": "python3"
  },
  "language_info": {
   "codemirror_mode": {
    "name": "ipython",
    "version": 3
   },
   "file_extension": ".py",
   "mimetype": "text/x-python",
   "name": "python",
   "nbconvert_exporter": "python",
   "pygments_lexer": "ipython3",
   "version": "3.11.9"
  }
 },
 "nbformat": 4,
 "nbformat_minor": 2
}
