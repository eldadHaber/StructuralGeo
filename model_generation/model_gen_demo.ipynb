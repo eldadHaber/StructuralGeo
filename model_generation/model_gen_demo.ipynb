{
 "cells": [
  {
   "cell_type": "markdown",
   "metadata": {},
   "source": [
    "# How to use the model generator"
   ]
  },
  {
   "cell_type": "code",
   "execution_count": 4,
   "metadata": {},
   "outputs": [],
   "source": [
    "import numpy as np\n",
    "import pyvista as pv\n",
    "\n",
    "from structgeo import model as geo\n",
    "from structgeo import plot as geovis\n",
    "from structgeo import probability as rv\n",
    "from structgeo.plot import ModelGenerator\n",
    "pv.set_jupyter_backend('client')"
   ]
  },
  {
   "cell_type": "code",
   "execution_count": 5,
   "metadata": {},
   "outputs": [
    {
     "data": {
      "application/vnd.jupyter.widget-view+json": {
       "model_id": "b6eb91c2a5f649c0a297100dfd133a88",
       "version_major": 2,
       "version_minor": 0
      },
      "text/plain": [
       "Widget(value='<iframe src=\"http://localhost:60971/index.html?ui=P_0x2a8a7e4b950_1&reconnect=auto\" class=\"pyvis…"
      ]
     },
     "metadata": {},
     "output_type": "display_data"
    }
   ],
   "source": [
    "DEFAULT_BASE_DIR = \"../saved_models\"\n",
    "\n",
    "# Define a function to generate a model\n",
    "def generate_model():\n",
    "    # Start with some model specifications\n",
    "    resolution = 128\n",
    "    # Cubic model keeps \n",
    "    max_x = 10\n",
    "    min_x = - max_x\n",
    "    bounds = (min_x,max_x)\n",
    "    model = geo.GeoModel(bounds, resolution)\n",
    "    # Bedrock layer\n",
    "    bedrock = geo.Bedrock(-5, 0)\n",
    "    \n",
    "    sb = geo.SedimentBuilder(1,6,2,8)\n",
    "    sediment = geo.Sedimentation(*sb.get_layers())\n",
    "    \n",
    "    model.add_history([bedrock, sediment])\n",
    "    model.compute_model()\n",
    "    return model\n",
    "\n",
    "model = generate_model()\n",
    "geovis.volview(model).show(window_size=[600, 400])"
   ]
  },
  {
   "cell_type": "code",
   "execution_count": 6,
   "metadata": {},
   "outputs": [
    {
     "data": {
      "application/vnd.jupyter.widget-view+json": {
       "model_id": "723435c331e94348a3af6f6e4bb255ed",
       "version_major": 2,
       "version_minor": 0
      },
      "text/plain": [
       "HBox(children=(Button(description='Save Model', style=ButtonStyle()), Button(description='Discard Model', styl…"
      ]
     },
     "metadata": {},
     "output_type": "display_data"
    },
    {
     "data": {
      "application/vnd.jupyter.widget-view+json": {
       "model_id": "e9db3bcd5800401084108d7646344182",
       "version_major": 2,
       "version_minor": 0
      },
      "text/plain": [
       "Output()"
      ]
     },
     "metadata": {},
     "output_type": "display_data"
    }
   ],
   "source": [
    "reviewer = ModelGenerator(generate_model_func=generate_model, base_dir=DEFAULT_BASE_DIR)\n",
    "reviewer.start_review()"
   ]
  }
 ],
 "metadata": {
  "kernelspec": {
   "display_name": "gnns",
   "language": "python",
   "name": "python3"
  },
  "language_info": {
   "codemirror_mode": {
    "name": "ipython",
    "version": 3
   },
   "file_extension": ".py",
   "mimetype": "text/x-python",
   "name": "python",
   "nbconvert_exporter": "python",
   "pygments_lexer": "ipython3",
   "version": "3.11.9"
  }
 },
 "nbformat": 4,
 "nbformat_minor": 2
}
