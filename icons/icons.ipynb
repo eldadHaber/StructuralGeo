{
 "cells": [
  {
   "cell_type": "code",
   "execution_count": 1,
   "metadata": {},
   "outputs": [],
   "source": [
    "import numpy as np\n",
    "import pyvista as pv\n",
    "\n",
    "import structgeo.model as geo\n",
    "import structgeo.generation as gen\n",
    "import structgeo.plot as geovis\n",
    "\n",
    "\n",
    "pv.set_jupyter_backend('static')\n",
    "WS = (600,400) # Set a custom window size to be reused in most plots\n"
   ]
  },
  {
   "cell_type": "markdown",
   "metadata": {},
   "source": [
    "## GeoProcess Icon Sketchbook"
   ]
  },
  {
   "cell_type": "markdown",
   "metadata": {},
   "source": [
    "### Custom Plot Type for GeoProcess Icon Sketchbook "
   ]
  },
  {
   "cell_type": "code",
   "execution_count": 2,
   "metadata": {},
   "outputs": [],
   "source": [
    "def demoview(model, threshold=-0.5, opacity=1, plotter=None):\n",
    "\n",
    "    if plotter is None:\n",
    "        plotter = pv.Plotter(window_size=WS)\n",
    "    p=plotter\n",
    "    \n",
    "    cats = np.arange(11)   # Set the number of categories for the colormap\n",
    "    clim = [cats.min(), cats.max()] # Preset color limits for all subplots\n",
    "    \n",
    "    grid = geovis.get_voxel_grid_from_model(model, threshold=threshold)\n",
    "    skin=grid.extract_surface()\n",
    "    \n",
    "    p.add_mesh(skin,scalars='values',clim=clim,cmap='gist_ncar',opacity=opacity)\n",
    "    # p.add_axes(line_width=5)    \n",
    "    p.remove_scalar_bar()\n",
    "    \n",
    "    flat_bounds = [item for sublist in model.bounds for item in sublist]\n",
    "    bounding_box = pv.Box(flat_bounds)\n",
    "    p.add_mesh(bounding_box, color=\"black\", style=\"wireframe\", line_width=3)\n",
    "    p.camera.elevation = -20\n",
    "    return p\n",
    "\n",
    "SCALING = 2.0\n"
   ]
  },
  {
   "cell_type": "markdown",
   "metadata": {},
   "source": [
    "### Layer Demo"
   ]
  },
  {
   "cell_type": "code",
   "execution_count": 3,
   "metadata": {},
   "outputs": [],
   "source": [
    "bounds = ((-20, 20), (-20, 20), (-10, 10))\n",
    "resolution = (128, 128, 64)\n",
    "model = geo.GeoModel(bounds=bounds, resolution=resolution)"
   ]
  },
  {
   "cell_type": "code",
   "execution_count": 4,
   "metadata": {},
   "outputs": [
    {
     "name": "stdout",
     "output_type": "stream",
     "text": [
      "\n"
     ]
    }
   ],
   "source": [
    "layer = geo.Layer(base=-10, width=10, value=0)\n",
    "model.clear_history()\n",
    "model.add_history(layer)\n",
    "model.compute_model()\n",
    "p = demoview(model)\n",
    "p.screenshot(\"images/layer1.png\", scale=SCALING, transparent_background=True)\n",
    "\n",
    "layer = geo.Layer(base=0, width=5, value=2)\n",
    "model.clear_history()\n",
    "model.add_history(layer)\n",
    "model.compute_model()\n",
    "p = demoview(model, opacity=.8, plotter=p)\n",
    "\n",
    "p.screenshot(\"images/layer2.png\", scale=SCALING, transparent_background=True)\n",
    "print('')"
   ]
  },
  {
   "cell_type": "markdown",
   "metadata": {},
   "source": [
    "### Shift Demo\n"
   ]
  },
  {
   "cell_type": "code",
   "execution_count": 5,
   "metadata": {},
   "outputs": [],
   "source": [
    "bedrock = geo.Bedrock(base=-10, value=0)\n",
    "sb = geo.SedimentBuilder(1,10,4,4)\n",
    "vals, thicks = sb.build_layers()\n",
    "sediment = geo.Sedimentation(value_list=vals, thickness_list=thicks)\n",
    "fold = geo.Fold(strike=30, dip=90, rake=0, origin=(0, 0, 0), amplitude=4, period=90, shape=1)\n",
    "dike = geo.Dike(strike=45, dip=90, width=4, origin=(0, 0, 0), value=6)\n",
    "\n",
    "model.clear_history()\n",
    "model.add_history([bedrock,sediment, fold, dike])\n",
    "model.compute_model()\n",
    "p = demoview(model)\n",
    "\n",
    "p.screenshot(\"images/shift1.png\", scale=SCALING, transparent_background=True)\n",
    "\n",
    "shift = geo.Shift(vector=(8,-4,8))\n",
    "model.add_history(shift)\n",
    "model.compute_model()\n",
    "p = demoview(model)\n",
    "\n",
    "p.screenshot(\"images/shift2.png\", scale=SCALING, transparent_background=True);"
   ]
  },
  {
   "cell_type": "markdown",
   "metadata": {},
   "source": [
    "### Rotate Demo"
   ]
  },
  {
   "cell_type": "code",
   "execution_count": 6,
   "metadata": {},
   "outputs": [],
   "source": [
    "def simple_hist():\n",
    "    bedrock = geo.Bedrock(base=-10, value=0)\n",
    "    sb = geo.SedimentBuilder(1,10,4,4)\n",
    "    vals, thicks = sb.build_layers()\n",
    "    sediment = geo.Sedimentation(value_list=vals, thickness_list=thicks)\n",
    "    fold = geo.Fold(strike=30, dip=90, rake=0, origin=(0, 0, 0), amplitude=4, period=90, shape=1)\n",
    "    dike = geo.Dike(strike=45, dip=90, width=4, origin=(0, 0, 0), value=6)\n",
    "    return [bedrock, sediment, fold, dike]\n",
    "\n",
    "\n",
    "model.clear_history()\n",
    "model.add_history(simple_hist())\n",
    "model.compute_model()\n",
    "p = demoview(model)\n",
    "\n",
    "p.screenshot(\"images/rotate1.png\", scale=SCALING, transparent_background=True)\n",
    "axis = [0,0,1]\n",
    "rot = geo.Rotate(axis=axis, angle=-30)\n",
    "model.add_history(rot)\n",
    "model.compute_model()\n",
    "p = demoview(model)\n",
    "\n",
    "p.screenshot(\"images/rotate2.png\", scale=SCALING, transparent_background=True);"
   ]
  },
  {
   "cell_type": "markdown",
   "metadata": {},
   "source": [
    "### Bedrock Demo"
   ]
  },
  {
   "cell_type": "code",
   "execution_count": 7,
   "metadata": {},
   "outputs": [],
   "source": [
    "model.clear_history()\n",
    "model.add_history(geo.NullProcess())\n",
    "model.compute_model()\n",
    "model.data[0] = 0 # Hack to bypass error warnings\n",
    "p = demoview(model)\n",
    "p.screenshot(\"images/bedrock1.png\", scale=SCALING, transparent_background=True)\n",
    "\n",
    "bedrock = geo.Bedrock(base=-2, value=0)\n",
    "model.clear_history()\n",
    "model.add_history(bedrock)\n",
    "model.compute_model()\n",
    "p = demoview(model)\n",
    "p.screenshot(\"images/bedrock2.png\", scale=SCALING, transparent_background=True);"
   ]
  },
  {
   "cell_type": "markdown",
   "metadata": {},
   "source": [
    "### Sedimentation Demo"
   ]
  },
  {
   "cell_type": "code",
   "execution_count": 40,
   "metadata": {},
   "outputs": [],
   "source": [
    "model.clear_history()\n",
    "model.add_history(simple_hist())\n",
    "model.compute_model()\n",
    "p = demoview(model)\n",
    "p.screenshot(\"images/sediment1.png\", scale=SCALING, transparent_background=True)\n",
    "\n",
    "sediment2 = geo.Sedimentation(value_list=[5,9,7,8], thickness_list=[1,3,2,3])\n",
    "model.add_history(sediment2)\n",
    "model.compute_model()\n",
    "p = demoview(model, plotter=p, opacity=0.7)\n",
    "p.screenshot(\"images/sediment2.png\", scale=SCALING, transparent_background=True);"
   ]
  },
  {
   "cell_type": "markdown",
   "metadata": {},
   "source": [
    "### Unconformity Demo"
   ]
  },
  {
   "cell_type": "code",
   "execution_count": 38,
   "metadata": {},
   "outputs": [],
   "source": [
    "model.clear_history()\n",
    "model.add_history(simple_hist())\n",
    "model.compute_model()\n",
    "p = demoview(model)\n",
    "p.screenshot(\"images/unconf1.png\", scale=SCALING, transparent_background=True)\n",
    "\n",
    "unconformity = geo.UnconformityBase(-5)\n",
    "model.add_history(unconformity)\n",
    "model.compute_model()\n",
    "p = demoview(model)\n",
    "model.clear_history()\n",
    "model.add_history(simple_hist())\n",
    "model.compute_model()\n",
    "p = demoview(model, plotter=p, opacity=0.2)\n",
    "p.screenshot(\"images/unconfbase.png\", scale=SCALING, transparent_background=True);\n"
   ]
  },
  {
   "cell_type": "markdown",
   "metadata": {},
   "source": [
    "### Tilt Demo"
   ]
  },
  {
   "cell_type": "code",
   "execution_count": 39,
   "metadata": {},
   "outputs": [],
   "source": [
    "model.clear_history()\n",
    "model.add_history(simple_hist())\n",
    "model.compute_model()\n",
    "p = demoview(model)\n",
    "p.screenshot(\"images/tilt1.png\", scale=SCALING, transparent_background=True)\n",
    "\n",
    "tilt = geo.Tilt(strike=-45, dip=15, origin= (20,20,0))\n",
    "model.add_history(tilt)\n",
    "model.compute_model()\n",
    "p = demoview(model)\n",
    "p.screenshot(\"images/tilt2.png\", scale=SCALING, transparent_background=True);"
   ]
  },
  {
   "cell_type": "markdown",
   "metadata": {},
   "source": [
    "### Dike Intrusions Demo"
   ]
  },
  {
   "cell_type": "code",
   "execution_count": null,
   "metadata": {},
   "outputs": [],
   "source": [
    "def flat_hist():\n",
    "    bedrock = geo.Bedrock(base=-10, value=0)\n",
    "    sb = geo.SedimentBuilder(1,10,4,4)\n",
    "    vals, thicks = sb.build_layers()\n",
    "    sediment = geo.Sedimentation(value_list=vals, thickness_list=thicks)\n",
    "    return [bedrock, dike]\n",
    "\n",
    "\n",
    "model.clear_history()\n",
    "model.add_history(flat_hist())\n",
    "model.compute_model()\n",
    "p = demoview(model)\n",
    "p.screenshot(\"images/tilt1.png\", scale=SCALING, transparent_background=True)\n",
    "\n",
    "tilt = geo.Tilt(strike=-45, dip=15, origin= (20,20,0))\n",
    "model.add_history(tilt)\n",
    "model.compute_model()\n",
    "p = demoview(model)\n",
    "p.screenshot(\"images/tilt2.png\", scale=SCALING, transparent_background=True);"
   ]
  }
 ],
 "metadata": {
  "kernelspec": {
   "display_name": "gnns",
   "language": "python",
   "name": "python3"
  },
  "language_info": {
   "codemirror_mode": {
    "name": "ipython",
    "version": 3
   },
   "file_extension": ".py",
   "mimetype": "text/x-python",
   "name": "python",
   "nbconvert_exporter": "python",
   "pygments_lexer": "ipython3",
   "version": "3.11.9"
  }
 },
 "nbformat": 4,
 "nbformat_minor": 2
}
