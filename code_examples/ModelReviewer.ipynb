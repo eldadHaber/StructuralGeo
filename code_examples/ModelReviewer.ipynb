{
 "cells": [
  {
   "cell_type": "markdown",
   "metadata": {},
   "source": [
    "# Model Reviewer\n",
    "Allows for the passing of a model generator function to a reviewer object that will generate the model, render it, display, and allow the option to reject or save the model."
   ]
  },
  {
   "cell_type": "code",
   "execution_count": 1,
   "metadata": {},
   "outputs": [],
   "source": [
    "import structgeo.model as geo\n",
    "import structgeo.plot as geovis\n",
    "import structgeo.probability as rv\n",
    "\n",
    "import numpy as np\n",
    "import pyvista as pv\n",
    "\n",
    "pv.set_jupyter_backend('static')"
   ]
  },
  {
   "cell_type": "markdown",
   "metadata": {},
   "source": [
    "## Model\n",
    "Specify the model type first, then populate it with a history"
   ]
  },
  {
   "cell_type": "code",
   "execution_count": 2,
   "metadata": {},
   "outputs": [],
   "source": [
    "# Set random seed for reproducibility\n",
    "# random_seed = 1234\n",
    "# np.random.seed(random_seed)"
   ]
  },
  {
   "cell_type": "code",
   "execution_count": 3,
   "metadata": {},
   "outputs": [
    {
     "name": "stdout",
     "output_type": "stream",
     "text": [
      "Model created with bounds (-10, 10) and resolution 128\n"
     ]
    }
   ],
   "source": [
    "# Start with some model specifications\n",
    "resolution = 128\n",
    "# Cubic model keeps \n",
    "max_x = 10\n",
    "min_x = - max_x\n",
    "model_size = max_x - min_x\n",
    "bounds = (min_x,max_x)\n",
    "model = geo.GeoModel(bounds, resolution)\n",
    "print(f\"Model created with bounds {bounds} and resolution {resolution}\")"
   ]
  },
  {
   "cell_type": "markdown",
   "metadata": {},
   "source": [
    "##"
   ]
  },
  {
   "cell_type": "code",
   "execution_count": 4,
   "metadata": {},
   "outputs": [
    {
     "data": {
      "application/vnd.jupyter.widget-view+json": {
       "model_id": "ea0d94dcd45b4baab5f2c5799b45d795",
       "version_major": 2,
       "version_minor": 0
      },
      "text/plain": [
       "HBox(children=(Button(description='Save Model', style=ButtonStyle()), Button(description='Discard Model', styl…"
      ]
     },
     "metadata": {},
     "output_type": "display_data"
    },
    {
     "data": {
      "application/vnd.jupyter.widget-view+json": {
       "model_id": "d13049f9f11b4fb2a0330cc85453ea9c",
       "version_major": 2,
       "version_minor": 0
      },
      "text/plain": [
       "Output()"
      ]
     },
     "metadata": {},
     "output_type": "display_data"
    },
    {
     "name": "stdout",
     "output_type": "stream",
     "text": [
      "Model height adjusted.\n"
     ]
    },
    {
     "name": "stdout",
     "output_type": "stream",
     "text": [
      "Model height adjusted.\n"
     ]
    },
    {
     "name": "stdout",
     "output_type": "stream",
     "text": [
      "Model height adjusted.\n"
     ]
    },
    {
     "name": "stdout",
     "output_type": "stream",
     "text": [
      "Model height adjusted.\n"
     ]
    },
    {
     "name": "stdout",
     "output_type": "stream",
     "text": [
      "Model height adjusted.\n",
      "Model discarded.\n"
     ]
    },
    {
     "name": "stdout",
     "output_type": "stream",
     "text": [
      "Model height adjusted.\n",
      "Model discarded.\n"
     ]
    },
    {
     "name": "stdout",
     "output_type": "stream",
     "text": [
      "Model height adjusted.\n",
      "Model discarded.\n"
     ]
    },
    {
     "name": "stdout",
     "output_type": "stream",
     "text": [
      "Model height adjusted.\n"
     ]
    },
    {
     "name": "stdout",
     "output_type": "stream",
     "text": [
      "Model height adjusted.\n",
      "Model discarded.\n"
     ]
    }
   ],
   "source": [
    "from structgeo.plot import ModelGenerator\n",
    "from structgeo.data import FileManager\n",
    "\n",
    "DEFAULT_BASE_DIR = \"../saved_models\"\n",
    "\n",
    "# Here we define the generation of a history and apply it to the model\n",
    "def generate_model():\n",
    "    # Bedrock layer\n",
    "    base = min_x + model_size / 4 + np.random.normal(0, model_size / 10)\n",
    "    value = 1\n",
    "    bedrock = geo.Bedrock(base,value)\n",
    "\n",
    "    # Random sedimentary layer filled to around 1/2 of the model\n",
    "    total_thickness =  model_size / 2 + np.random.normal(0, model_size / 10)\n",
    "\n",
    "    # Generate random values and thicknesse\n",
    "    sb = geo.SedimentBuilder(start_value= 2, total_thickness=total_thickness, min_layers= 3, max_layers= 10, std= 0.5)\n",
    "        \n",
    "    sediment = geo.Sedimentation(*sb.get_layers())\n",
    "    \n",
    "    model.clear_history()\n",
    "    model.add_history([bedrock, sediment])\n",
    "    model.compute_model()\n",
    "    return model\n",
    "\n",
    "reviewer = ModelGenerator(generate_model_func=generate_model, base_dir=DEFAULT_BASE_DIR)\n",
    "reviewer.start_review()"
   ]
  },
  {
   "cell_type": "code",
   "execution_count": null,
   "metadata": {},
   "outputs": [],
   "source": []
  }
 ],
 "metadata": {
  "kernelspec": {
   "display_name": "gnns",
   "language": "python",
   "name": "python3"
  },
  "language_info": {
   "codemirror_mode": {
    "name": "ipython",
    "version": 3
   },
   "file_extension": ".py",
   "mimetype": "text/x-python",
   "name": "python",
   "nbconvert_exporter": "python",
   "pygments_lexer": "ipython3",
   "version": "3.11.9"
  }
 },
 "nbformat": 4,
 "nbformat_minor": 2
}
