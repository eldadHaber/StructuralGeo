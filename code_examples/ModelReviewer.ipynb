{
 "cells": [
  {
   "cell_type": "markdown",
   "metadata": {},
   "source": [
    "# Model Reviewer and Building GeoSentences\n",
    "A Model Reviewer that produces static images of generated models from a model generator function. A function that generates a history is passed and the Model Reviewer will render, display, and allow the option to reject or save the model."
   ]
  },
  {
   "cell_type": "code",
   "execution_count": 1,
   "metadata": {},
   "outputs": [],
   "source": [
    "import pyvista as pv\n",
    "pv.set_jupyter_backend('static')"
   ]
  },
  {
   "cell_type": "markdown",
   "metadata": {},
   "source": [
    "## Model History Generation\n",
    "The generation package contains a set of GeoWords and geological sentence builder functions that allow for specifying mini-histories formed of one or more GeoProcesses that have generating random variables attached to them. A `GeoWord` object is an object that packages one or more `GeoProcess` with constrained random variable parameters. It offers a convenient way to name parameterized snippets of geological history.\n",
    "\n",
    "The atomic operations on the model are the `GeoProcess` depositions and transformations that function as leaf nodes in a computational tree. These are like the basic building blocks or 'alphabet' of the model that can be used to form words. \n",
    "\n",
    "<img src=\"https://i.imgur.com/wudCw3Q.png\" width=\"800\" >\n",
    "\n",
    "Geowords are an extension of the tree computation that fills in the missing parameters of the `GeoProcess` leaves and wraps the snippets in a `CompoundProcess`\n",
    "\n",
    "Note that we can view a table of the history in Jupyter by simply calling the `display(model)` function. This will render the history in a human-readable html table format."
   ]
  },
  {
   "cell_type": "code",
   "execution_count": 2,
   "metadata": {},
   "outputs": [
    {
     "data": {
      "text/html": [
       "\n",
       "        <table>\n",
       "            <tr>\n",
       "                <th style=\"text-align: left;\">Parameter</th>\n",
       "                <th style=\"text-align: left;\">Value</th>\n",
       "                <th style=\"text-align: left; vertical-align: top;\" rowspan=\"5\">History</th>\n",
       "            </tr>\n",
       "            <tr><td>Name</td><td>model</td><td rowspan=\"5\"><div style='text-align: left;'><ol><li>CompoundProcess (InfiniteBasement) with 1 sub-processes.</li><li>CompoundProcess (CoarseRepeatSediment) with 1 sub-processes.</li><li>CompoundProcess (FourierFold) with 1 sub-processes.</li><li>CompoundProcess (SingleRandSediment) with 1 sub-processes.</li><li>CompoundProcess (FineRepeatSediment) with 1 sub-processes.</li><li>Shift: vector [    0.             0.         -1727.53560301]</li><li>Shift: vector [   0.            0.         1405.27337672]</li></ol></div></td></tr>\n",
       "            <tr><td>Data Type</td><td><class 'numpy.float32'></td></tr>\n",
       "            <tr><td>Bounds</td><td>((-1000, 1000), (-1000, 1000), (-1000, 1000))</td></tr>\n",
       "            <tr><td>Resolution</td><td>(128, 128, 128)</td></tr>\n",
       "        </table>\n",
       "        "
      ],
      "text/plain": [
       "GeoModel(name=model, bounds=((-1000, 1000), (-1000, 1000), (-1000, 1000)), resolution=(128, 128, 128))"
      ]
     },
     "metadata": {},
     "output_type": "display_data"
    }
   ],
   "source": [
    "import structgeo.generation as gen\n",
    "# Geo sentence fromed of geowords\n",
    "sentence = [gen.InfiniteBasement() , gen.CoarseRepeatSediment(), gen.FourierFold(), gen.SingleRandSediment(), gen.FineRepeatSediment()]\n",
    "hist = gen.generate_history(sentence) \n",
    "\n",
    "# Add history to a model to generate a 3D model\n",
    "model = gen.generate_normalized_model(hist, bounds = (-1000,1000), resolution = 128)\n",
    "display(model) # Display a table of model information"
   ]
  },
  {
   "cell_type": "markdown",
   "metadata": {},
   "source": [
    "##"
   ]
  },
  {
   "cell_type": "markdown",
   "metadata": {},
   "source": [
    "### Model Review\n",
    "\n",
    "The model review is a simple Jupyter Notebook interface with buttons that allows for the review of the output of a defined model generator function. Using the `GeoWord` context\n"
   ]
  },
  {
   "cell_type": "markdown",
   "metadata": {},
   "source": [
    "##\n",
    "Model visualizations are available in the plot package. The "
   ]
  },
  {
   "cell_type": "code",
   "execution_count": 3,
   "metadata": {},
   "outputs": [
    {
     "data": {
      "application/vnd.jupyter.widget-view+json": {
       "model_id": "52a9fdbdb50741b4b87ecde87fe783c1",
       "version_major": 2,
       "version_minor": 0
      },
      "text/plain": [
       "HBox(children=(Button(description='Save Model', style=ButtonStyle()), Button(description='Discard Model', styl…"
      ]
     },
     "metadata": {},
     "output_type": "display_data"
    },
    {
     "data": {
      "application/vnd.jupyter.widget-view+json": {
       "model_id": "f3724a460c6641ffaf6bb1fb21b056e8",
       "version_major": 2,
       "version_minor": 0
      },
      "text/plain": [
       "Output()"
      ]
     },
     "metadata": {},
     "output_type": "display_data"
    }
   ],
   "source": [
    "from structgeo.plot import ModelReviewer\n",
    "\n",
    "# Save directory for models\n",
    "DEFAULT_BASE_DIR = \"../saved_models\"\n",
    "\n",
    "# Model resolution and bounds\n",
    "res = (256,256,128)\n",
    "bounds = ((-3840,3840),(-3840,3840),(-1920,1920)) \n",
    "def generate_model():\n",
    "    # Generate a randomized history from geowords, one single sample\n",
    "    hist = gen.generate_history(sentence)    \n",
    "    # Generate a model\n",
    "    model = gen.generate_normalized_model(hist, bounds, res)\n",
    "    return model\n",
    "\n",
    "reviewer = ModelReviewer(generate_model_func=generate_model, base_dir=DEFAULT_BASE_DIR)\n",
    "reviewer.start_review()"
   ]
  },
  {
   "cell_type": "markdown",
   "metadata": {},
   "source": [
    "## Generation via YAML file \n",
    "\n",
    "Models can also be generated by specifying history types and weights in a YAML file. The `GeoModelGenerator` class reads the YAML file and generates a model based on the specified history types and weights. Details of the YAML file format can be found in the `yaml_generation.md` file in the root directory of the repository.\n",
    "\n",
    "All of the generation configuration is stored in the config folder. A config points to the relative filepath where the yaml file is stored.\n",
    "\n",
    "A simple generator is defined in `config/generation/simple_dataset/simple_sampler.yml`"
   ]
  },
  {
   "cell_type": "code",
   "execution_count": 4,
   "metadata": {},
   "outputs": [
    {
     "name": "stdout",
     "output_type": "stream",
     "text": [
      "YAML file found and loaded: simple_sampler.yml\n",
      "{'dataset_dir': 'C:\\\\Users\\\\sghys\\\\Summer2024\\\\StructuralGeo\\\\src\\\\structgeo\\\\config\\\\generation/simple_dataset', 'yaml_file': 'C:\\\\Users\\\\sghys\\\\Summer2024\\\\StructuralGeo\\\\src\\\\structgeo\\\\config\\\\generation/simple_dataset\\\\simple_sampler.yml'}\n"
     ]
    },
    {
     "data": {
      "application/vnd.jupyter.widget-view+json": {
       "model_id": "5c098b939ed2422bae2c9e762a5e4e89",
       "version_major": 2,
       "version_minor": 0
      },
      "text/plain": [
       "HBox(children=(Button(description='Save Model', style=ButtonStyle()), Button(description='Discard Model', styl…"
      ]
     },
     "metadata": {},
     "output_type": "display_data"
    },
    {
     "data": {
      "application/vnd.jupyter.widget-view+json": {
       "model_id": "e15b5a0603f04c7388badd30cbc2c34a",
       "version_major": 2,
       "version_minor": 0
      },
      "text/plain": [
       "Output()"
      ]
     },
     "metadata": {},
     "output_type": "display_data"
    }
   ],
   "source": [
    "from structgeo.config import load_config\n",
    "from structgeo.generation import GeoModelGenerator\n",
    "\n",
    "# Load the configuration file\n",
    "config = load_config(name ='config_default.json') # Load the config_default.json default file\n",
    "print(config)\n",
    "\n",
    "geogen = GeoModelGenerator(config_path = config['yaml_file'], model_bounds=((-3840,3840),(-3840,3840),(-1920,1920)), model_resolution=(128,128,64))\n",
    "reviewer = ModelReviewer(generate_model_func=geogen.generate_model, base_dir=DEFAULT_BASE_DIR)\n",
    "reviewer.start_review()"
   ]
  },
  {
   "cell_type": "markdown",
   "metadata": {},
   "source": [
    "## Forming New GeoWords\n",
    "\n",
    "The contract for a geoword is that it simply needs to have a `build_ history()` function that will populate the `self.history` field.  For example we want to pair a fault with a dike randomly placed in the model. We can create a new `GeoWord` object that will encapsulate the random variables and the underlying processes. "
   ]
  },
  {
   "cell_type": "code",
   "execution_count": 5,
   "metadata": {},
   "outputs": [],
   "source": [
    "from structgeo.model import Fault, DikePlane\n",
    "from structgeo.probability import random_point_in_ellipsoid\n",
    "import numpy as np\n",
    "\n",
    "class MyFaultDikeWord(gen.GeoWord):\n",
    "    def build_history(self):\n",
    "        bounds = ((-3840,3840),(-3840,3840),(-1920,1920)) \n",
    "        strike = np.random.uniform(0, 360)\n",
    "        dip = np.random.uniform(75,90)\n",
    "        rake = np.random.uniform(0,360)\n",
    "        origin = random_point_in_ellipsoid(bounds)\n",
    "        # First a Fault\n",
    "        fault_params = {\n",
    "            'strike' : strike,\n",
    "            'dip' : dip,\n",
    "            'rake' : rake,\n",
    "            'amplitude' : np.random.lognormal(0,.25)*200,           \n",
    "            'origin' :    origin\n",
    "        }\n",
    "        fault = Fault(**fault_params)\n",
    "        # Then a Dike in the same area\n",
    "        dike_params = {\n",
    "            'strike' : strike,\n",
    "            'dip' : dip,          \n",
    "            'width' : np.random.normal(150,50),\n",
    "            'origin' :    origin\n",
    "        }\n",
    "        dike = DikePlane(**dike_params)\n",
    "        \n",
    "        self.add_process(fault)\n",
    "        self.add_process(dike)\n",
    "        # No return value needed\n",
    "        "
   ]
  },
  {
   "cell_type": "markdown",
   "metadata": {},
   "source": [
    "Now adding a new `GeoWord` object that encapsulates the fault and dike processes. To a sentence:"
   ]
  },
  {
   "cell_type": "code",
   "execution_count": 6,
   "metadata": {},
   "outputs": [
    {
     "data": {
      "application/vnd.jupyter.widget-view+json": {
       "model_id": "f55b3147b5d8436aaef160a5ea6a5e7c",
       "version_major": 2,
       "version_minor": 0
      },
      "text/plain": [
       "HBox(children=(Button(description='Save Model', style=ButtonStyle()), Button(description='Discard Model', styl…"
      ]
     },
     "metadata": {},
     "output_type": "display_data"
    },
    {
     "data": {
      "application/vnd.jupyter.widget-view+json": {
       "model_id": "707cd441d87c49a88be74b74536843e2",
       "version_major": 2,
       "version_minor": 0
      },
      "text/plain": [
       "Output()"
      ]
     },
     "metadata": {},
     "output_type": "display_data"
    }
   ],
   "source": [
    "sentence = [gen.InfiniteBasement() , gen.CoarseRepeatSediment(), gen.FourierFold(), gen.SingleRandSediment(), gen.FineRepeatSediment(), MyFaultDikeWord()]\n",
    "\n",
    "# Save directory for models\n",
    "DEFAULT_BASE_DIR = \"../saved_models\"\n",
    "\n",
    "# Model resolution and bounds\n",
    "res = (256,256,128)\n",
    "bounds = ((-3840,3840),(-3840,3840),(-1920,1920)) \n",
    "def generate_model():\n",
    "    # Generate a randomized history from geowords, one single sample\n",
    "    hist = gen.generate_history(sentence)    \n",
    "    # Generate a model\n",
    "    model = gen.generate_normalized_model(hist, bounds, res)\n",
    "    return model\n",
    "\n",
    "reviewer = ModelReviewer(generate_model_func=generate_model, base_dir=DEFAULT_BASE_DIR)\n",
    "reviewer.start_review()"
   ]
  },
  {
   "cell_type": "markdown",
   "metadata": {},
   "source": [
    "### Nested GeoWords\n",
    "Similar to the underlying GeoProcesses, GeoWords can be nested to form more complex histories. For example, we can create a `GeoWord` that encapsulates a fault and a dike, and then use that in another `GeoWord` that encapsulates a basin and the fault-dike. A word can consist one or more GeoWords and GeoProcesses or a combination of both.\n",
    "\n",
    "Have a look at the available GeoWords and GeoProcesses to work with for inspiration."
   ]
  },
  {
   "cell_type": "code",
   "execution_count": 7,
   "metadata": {},
   "outputs": [],
   "source": [
    "class KitchenSink(gen.GeoWord):\n",
    "    def build_history(self):\n",
    "        self.add_process(gen.InfiniteBasement())\n",
    "        self.add_process(gen.CoarseRepeatSediment())\n",
    "        # Sample randomly from a list of geowords\n",
    "        word_options = [gen.CoarseRepeatSediment, gen.FourierFold, gen.ShapedFold, gen.SingleRandSediment, gen.FineRepeatSediment, MyFaultDikeWord]\n",
    "        for i in range(np.random.randint(2,5)):\n",
    "            word = np.random.choice(word_options)\n",
    "            self.add_process(word())\n",
    "        # No return value needed       "
   ]
  },
  {
   "cell_type": "code",
   "execution_count": 8,
   "metadata": {},
   "outputs": [
    {
     "data": {
      "application/vnd.jupyter.widget-view+json": {
       "model_id": "b0790b64cce142a19d5690b0300d9f3c",
       "version_major": 2,
       "version_minor": 0
      },
      "text/plain": [
       "HBox(children=(Button(description='Save Model', style=ButtonStyle()), Button(description='Discard Model', styl…"
      ]
     },
     "metadata": {},
     "output_type": "display_data"
    },
    {
     "data": {
      "application/vnd.jupyter.widget-view+json": {
       "model_id": "481d7e826d5c49fa8a1d210d46c9430f",
       "version_major": 2,
       "version_minor": 0
      },
      "text/plain": [
       "Output()"
      ]
     },
     "metadata": {},
     "output_type": "display_data"
    }
   ],
   "source": [
    "sentence = [KitchenSink()]\n",
    "# Save directory for models\n",
    "DEFAULT_BASE_DIR = \"../saved_models\"\n",
    "\n",
    "# Model resolution and bounds\n",
    "res = (256,256,128)\n",
    "bounds = ((-3840,3840),(-3840,3840),(-1920,1920)) \n",
    "def generate_model():\n",
    "    # Generate a randomized history from geowords, one single sample\n",
    "    hist = gen.generate_history(sentence)    \n",
    "    # Generate a model\n",
    "    model = gen.generate_normalized_model(hist, bounds, res)\n",
    "    return model\n",
    "\n",
    "reviewer = ModelReviewer(generate_model_func=generate_model, base_dir=DEFAULT_BASE_DIR)\n",
    "reviewer.start_review()"
   ]
  },
  {
   "cell_type": "code",
   "execution_count": 9,
   "metadata": {},
   "outputs": [],
   "source": [
    "import structgeo.plot as geovis\n",
    "model = generate_model()\n",
    "p = geovis.volview(model,)"
   ]
  }
 ],
 "metadata": {
  "kernelspec": {
   "display_name": "gnns",
   "language": "python",
   "name": "python3"
  },
  "language_info": {
   "codemirror_mode": {
    "name": "ipython",
    "version": 3
   },
   "file_extension": ".py",
   "mimetype": "text/x-python",
   "name": "python",
   "nbconvert_exporter": "python",
   "pygments_lexer": "ipython3",
   "version": "3.11.9"
  }
 },
 "nbformat": 4,
 "nbformat_minor": 2
}
