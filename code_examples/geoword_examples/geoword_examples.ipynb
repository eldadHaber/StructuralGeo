{
 "cells": [
  {
   "cell_type": "markdown",
   "metadata": {},
   "source": [
    "# GeoWords Demonstration Library\n",
    "\n",
    "This notebook demonstrates a visual example for the base library of GeoWords. It also ensures that each GeoWord is correctly generating a history snippet and functioning as expected. A save path for storing generated images is specified as a global variable."
   ]
  },
  {
   "cell_type": "code",
   "execution_count": 1,
   "metadata": {},
   "outputs": [],
   "source": [
    "import pyvista as pv\n",
    "import os\n",
    "\n",
    "from structgeo.generation import *\n",
    "from structgeo.model import GeoModel\n",
    "import structgeo.plot as geovis\n",
    "\n",
    "pv.set_jupyter_backend('static')"
   ]
  },
  {
   "cell_type": "markdown",
   "metadata": {},
   "source": [
    "### Base Library\n",
    "The geomodel parameters and the display size are defined for all the examples here. A simple display and sampling scheme is given."
   ]
  },
  {
   "cell_type": "code",
   "execution_count": 8,
   "metadata": {},
   "outputs": [],
   "source": [
    "WINDOW_SIZE = (800, 400)\n",
    "N_SAMPLES   = 9\n",
    "MODEL_BOUNDS = (BOUNDS_X, BOUNDS_Y, BOUNDS_Z)\n",
    "MODEL_RESOLUTION = (128,128,64)\n",
    "SHOW_IMAGES = False\n",
    "\n",
    "SAVE_PATH = 'images/'\n",
    "os.makedirs(SAVE_PATH, exist_ok=True)"
   ]
  },
  {
   "cell_type": "code",
   "execution_count": 12,
   "metadata": {},
   "outputs": [],
   "source": [
    "def calculate_grid_dims(n):\n",
    "    \"\"\" Calculate grid dimensions that are as square as possible. \"\"\"\n",
    "    sqrt_n = np.sqrt(n)\n",
    "    rows = np.ceil(sqrt_n)\n",
    "    cols = rows\n",
    "    return int(rows), int(cols)\n",
    "\n",
    "def generate_samples(sentence, bounds=MODEL_BOUNDS, res=MODEL_RESOLUTION, n_samples=N_SAMPLES, save_file = None):\n",
    "    histories = [generate_history(sentence) for _ in range(n_samples)]  \n",
    "    \n",
    "    rows, cols = calculate_grid_dims(n_samples) \n",
    "    if SHOW_IMAGES:\n",
    "        p = pv.Plotter(shape=(rows, cols), window_size=WINDOW_SIZE)   \n",
    "    else:\n",
    "        p = pv.Plotter(shape=(rows, cols), window_size=WINDOW_SIZE, off_screen=True)\n",
    "           \n",
    "    for i, hist in enumerate(histories):\n",
    "        row, col = divmod(i, cols)\n",
    "        p.subplot(row, col)\n",
    "        model = generate_normalized_model(hist, bounds, res)\n",
    "        geovis.volview(model, plotter=p)  \n",
    "        \n",
    "    p.link_views()\n",
    "    if save_file is not None:\n",
    "        save_loc = os.path.join(SAVE_PATH, save_file)\n",
    "        p.screenshot(save_loc)"
   ]
  },
  {
   "cell_type": "markdown",
   "metadata": {},
   "source": [
    "## Foundational Depositions\n",
    "A category of geowords that establish an infinite or pseudo-infinite downward deposition of material to ensure that the model is not empty below."
   ]
  },
  {
   "cell_type": "code",
   "execution_count": 14,
   "metadata": {},
   "outputs": [],
   "source": [
    "geostory = [InfiniteBasement()]\n",
    "generate_samples(geostory, save_file=\"infinite_basement.png\")\n",
    "geostory = [InfiniteSedimentUniform()]\n",
    "generate_samples(geostory, save_file=\"infinite_sediment_uniform.png\")\n",
    "geostory = [InfiniteSedimentMarkov()]\n",
    "generate_samples(geostory, save_file=\"infinite_sediment_markov.png\")"
   ]
  },
  {
   "cell_type": "code",
   "execution_count": null,
   "metadata": {},
   "outputs": [],
   "source": []
  }
 ],
 "metadata": {
  "kernelspec": {
   "display_name": "ml",
   "language": "python",
   "name": "python3"
  },
  "language_info": {
   "codemirror_mode": {
    "name": "ipython",
    "version": 3
   },
   "file_extension": ".py",
   "mimetype": "text/x-python",
   "name": "python",
   "nbconvert_exporter": "python",
   "pygments_lexer": "ipython3",
   "version": "3.11.9"
  }
 },
 "nbformat": 4,
 "nbformat_minor": 2
}
