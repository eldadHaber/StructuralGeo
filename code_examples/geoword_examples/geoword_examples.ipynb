{
 "cells": [
  {
   "cell_type": "markdown",
   "metadata": {},
   "source": [
    "# GeoWords Demonstration Library\n",
    "\n",
    "This notebook demonstrates a visual example for the base library of GeoWords. It also ensures that each GeoWord is correctly generating a history snippet and functioning as expected. A save path for storing generated images is specified as a global variable."
   ]
  },
  {
   "cell_type": "code",
   "execution_count": 1,
   "metadata": {},
   "outputs": [],
   "source": [
    "import pyvista as pv\n",
    "import os\n",
    "\n",
    "from geogen.generation import *\n",
    "from geogen.model import GeoModel\n",
    "import geogen.plot as geovis\n",
    "\n",
    "pv.set_jupyter_backend('static')"
   ]
  },
  {
   "cell_type": "markdown",
   "metadata": {},
   "source": [
    "### Base Library\n",
    "The geomodel parameters and the display size are defined for all the examples here. A simple display and sampling scheme is given."
   ]
  },
  {
   "cell_type": "code",
   "execution_count": 2,
   "metadata": {},
   "outputs": [],
   "source": [
    "WINDOW_SIZE = (800, 400)\n",
    "N_SAMPLES   = 9    # Number of history samples to make\n",
    "MODEL_BOUNDS = (BOUNDS_X, BOUNDS_Y, BOUNDS_Z) # Imports from geowords.py\n",
    "MODEL_RESOLUTION = (128,128,64) # Set resolution for model samples\n",
    "SHOW_IMAGES = False  # Set to true to show images in notebook, False to simply save to file\n",
    "\n",
    "SAVE_PATH = 'images/' # Save dir for sampled images\n",
    "os.makedirs(SAVE_PATH, exist_ok=True)"
   ]
  },
  {
   "cell_type": "code",
   "execution_count": 3,
   "metadata": {},
   "outputs": [],
   "source": [
    "def calculate_grid_dims(n):\n",
    "    \"\"\" Calculate grid dimensions that are as square as possible. \"\"\"\n",
    "    sqrt_n = np.sqrt(n)\n",
    "    rows = np.ceil(sqrt_n)\n",
    "    cols = rows\n",
    "    return int(rows), int(cols)\n",
    "\n",
    "def generate_samples(sentence, bounds=MODEL_BOUNDS, res=MODEL_RESOLUTION, n_samples=N_SAMPLES, save_file = None):\n",
    "    histories = [generate_history(sentence) for _ in range(n_samples)]  \n",
    "    \n",
    "    rows, cols = calculate_grid_dims(n_samples) \n",
    "    if SHOW_IMAGES:\n",
    "        p = pv.Plotter(shape=(rows, cols), window_size=WINDOW_SIZE)   \n",
    "    else:\n",
    "        p = pv.Plotter(shape=(rows, cols), window_size=WINDOW_SIZE, off_screen=True)\n",
    "           \n",
    "    for i, hist in enumerate(histories):\n",
    "        row, col = divmod(i, cols)\n",
    "        p.subplot(row, col)\n",
    "        model = GeoModel(bounds, res)\n",
    "        model.add_history(hist)\n",
    "        model.compute_model(normalize=True)\n",
    "        geovis.volview(model, plotter=p)  \n",
    "        \n",
    "    p.link_views()\n",
    "    if save_file is not None:\n",
    "        save_loc = os.path.join(SAVE_PATH, save_file)\n",
    "        p.screenshot(save_loc)"
   ]
  },
  {
   "cell_type": "markdown",
   "metadata": {},
   "source": [
    "## Automatic Geowords Iteration\n",
    "Pass through all the geowords and generate a history snippet for each one. These can be inspected in the images folder"
   ]
  },
  {
   "cell_type": "code",
   "execution_count": 5,
   "metadata": {},
   "outputs": [
    {
     "name": "stdout",
     "output_type": "stream",
     "text": [
      "name: BlobCluster, class: <class 'geogen.generation.geowords.BlobCluster'>\n",
      "name: BlobWord, class: <class 'geogen.generation.geowords.BlobWord'>\n",
      "name: CoarseRepeatSediment, class: <class 'geogen.generation.geowords.CoarseRepeatSediment'>\n",
      "name: DikeGroup, class: <class 'geogen.generation.geowords.DikeGroup'>\n",
      "name: DikePlaneWord, class: <class 'geogen.generation.geowords.DikePlaneWord'>\n",
      "name: FaultHorstGraben, class: <class 'geogen.generation.geowords.FaultHorstGraben'>\n",
      "name: FaultNormal, class: <class 'geogen.generation.geowords.FaultNormal'>\n",
      "name: FaultRandom, class: <class 'geogen.generation.geowords.FaultRandom'>\n",
      "name: FaultReverse, class: <class 'geogen.generation.geowords.FaultReverse'>\n",
      "name: FaultStrikeSlip, class: <class 'geogen.generation.geowords.FaultStrikeSlip'>\n",
      "name: FineRepeatSediment, class: <class 'geogen.generation.geowords.FineRepeatSediment'>\n",
      "name: FlatUnconformity, class: <class 'geogen.generation.geowords.FlatUnconformity'>\n",
      "name: FourierFold, class: <class 'geogen.generation.geowords.FourierFold'>\n",
      "name: InfiniteBasement, class: <class 'geogen.generation.geowords.InfiniteBasement'>\n",
      "name: InfiniteSedimentMarkov, class: <class 'geogen.generation.geowords.InfiniteSedimentMarkov'>\n",
      "name: InfiniteSedimentTilted, class: <class 'geogen.generation.geowords.InfiniteSedimentTilted'>\n",
      "name: InfiniteSedimentUniform, class: <class 'geogen.generation.geowords.InfiniteSedimentUniform'>\n",
      "name: Laccolith, class: <class 'geogen.generation.geowords.Laccolith'>\n",
      "name: Lopolith, class: <class 'geogen.generation.geowords.Lopolith'>\n",
      "name: MicroNoise, class: <class 'geogen.generation.geowords.MicroNoise'>\n",
      "name: NullWord, class: <class 'geogen.generation.geowords.NullWord'>\n",
      "name: ShapedFold, class: <class 'geogen.generation.geowords.ShapedFold'>\n",
      "name: SillSystem, class: <class 'geogen.generation.geowords.SillSystem'>\n",
      "name: SillWord, class: <class 'geogen.generation.geowords.SillWord'>\n",
      "name: SimpleFold, class: <class 'geogen.generation.geowords.SimpleFold'>\n",
      "name: SingleDikeWarped, class: <class 'geogen.generation.geowords.SingleDikeWarped'>\n",
      "name: SingleRandSediment, class: <class 'geogen.generation.geowords.SingleRandSediment'>\n",
      "name: TiltCutFill, class: <class 'geogen.generation.geowords.TiltCutFill'>\n",
      "name: TiltedUnconformity, class: <class 'geogen.generation.geowords.TiltedUnconformity'>\n",
      "name: VolcanicPlug, class: <class 'geogen.generation.geowords.VolcanicPlug'>\n",
      "name: WaveUnconformity, class: <class 'geogen.generation.geowords.WaveUnconformity'>\n",
      "A Total of 31 GeoWord classes found.\n"
     ]
    }
   ],
   "source": [
    "import inspect\n",
    "import geogen.generation.geowords as geowords\n",
    "\n",
    "# Collect all GeoWord subclasses, excluding the GeoWord base class and private classes\n",
    "geoword_classes = {\n",
    "    name: cls for name, cls in inspect.getmembers(geowords, inspect.isclass)\n",
    "    if not name.startswith('_') and issubclass(cls, geowords.GeoWord) and cls is not geowords.GeoWord\n",
    "}\n",
    "\n",
    "# Iterate over all valid GeoWord classes and print their names\n",
    "for name, GeoWordClass in geoword_classes.items():\n",
    "    print(f\"name: {name}, class: {GeoWordClass}\")\n",
    "    \n",
    "print(f\"A Total of {len(geoword_classes)} GeoWord classes found.\")"
   ]
  },
  {
   "cell_type": "code",
   "execution_count": 6,
   "metadata": {},
   "outputs": [
    {
     "name": "stdout",
     "output_type": "stream",
     "text": [
      "Generated and saved blobcluster.png for BlobCluster\n",
      "Generated and saved blobword.png for BlobWord\n",
      "Generated and saved coarserepeatsediment.png for CoarseRepeatSediment\n",
      "Generated and saved dikegroup.png for DikeGroup\n",
      "Generated and saved dikeplaneword.png for DikePlaneWord\n",
      "Generated and saved faulthorstgraben.png for FaultHorstGraben\n",
      "Generated and saved faultnormal.png for FaultNormal\n",
      "Generated and saved faultrandom.png for FaultRandom\n",
      "Generated and saved faultreverse.png for FaultReverse\n",
      "Generated and saved faultstrikeslip.png for FaultStrikeSlip\n",
      "Generated and saved finerepeatsediment.png for FineRepeatSediment\n",
      "Generated and saved flatunconformity.png for FlatUnconformity\n",
      "Generated and saved fourierfold.png for FourierFold\n",
      "Generated and saved infinitebasement.png for InfiniteBasement\n",
      "Generated and saved infinitesedimentmarkov.png for InfiniteSedimentMarkov\n",
      "Generated and saved infinitesedimenttilted.png for InfiniteSedimentTilted\n",
      "Generated and saved infinitesedimentuniform.png for InfiniteSedimentUniform\n",
      "Generated and saved laccolith.png for Laccolith\n",
      "Generated and saved lopolith.png for Lopolith\n",
      "Generated and saved micronoise.png for MicroNoise\n",
      "Generated and saved nullword.png for NullWord\n",
      "Generated and saved shapedfold.png for ShapedFold\n",
      "Generated and saved sillsystem.png for SillSystem\n",
      "Generated and saved sillword.png for SillWord\n",
      "Generated and saved simplefold.png for SimpleFold\n",
      "Generated and saved singledikewarped.png for SingleDikeWarped\n",
      "Generated and saved singlerandsediment.png for SingleRandSediment\n",
      "Generated and saved tiltcutfill.png for TiltCutFill\n",
      "Generated and saved tiltedunconformity.png for TiltedUnconformity\n",
      "Generated and saved volcanicplug.png for VolcanicPlug\n",
      "Generated and saved waveunconformity.png for WaveUnconformity\n"
     ]
    }
   ],
   "source": [
    "# Iterate over all valid GeoWord classes and plot each one\n",
    "for name, GeoWordClass in geoword_classes.items():\n",
    "    # Create a geostory with the current GeoWord instance\n",
    "    geostory = [BaseStrata(), GeoWordClass()]\n",
    "\n",
    "    # Generate and save the samples\n",
    "    save_filename = f\"{name.lower()}.png\"\n",
    "    generate_samples(geostory, save_file=save_filename)\n",
    "\n",
    "    print(f\"Generated and saved {save_filename} for {name}\")"
   ]
  }
 ],
 "metadata": {
  "kernelspec": {
   "display_name": "ml",
   "language": "python",
   "name": "python3"
  },
  "language_info": {
   "codemirror_mode": {
    "name": "ipython",
    "version": 3
   },
   "file_extension": ".py",
   "mimetype": "text/x-python",
   "name": "python",
   "nbconvert_exporter": "python",
   "pygments_lexer": "ipython3",
   "version": "3.12.4"
  }
 },
 "nbformat": 4,
 "nbformat_minor": 2
}
