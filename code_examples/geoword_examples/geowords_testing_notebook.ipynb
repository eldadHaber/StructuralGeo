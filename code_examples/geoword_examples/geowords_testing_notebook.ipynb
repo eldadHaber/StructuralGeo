{
 "cells": [
  {
   "cell_type": "markdown",
   "metadata": {},
   "source": [
    "# Geoword Testing Environment\n",
    "For building multiple examples of geoword sequences"
   ]
  },
  {
   "cell_type": "code",
   "execution_count": 1,
   "metadata": {},
   "outputs": [],
   "source": [
    "%load_ext autoreload\n",
    "import pyvista as pv\n",
    "\n",
    "from geogen.generation import *\n",
    "import geogen.model as geo\n",
    "import geogen.plot as geovis\n",
    "\n",
    "pv.set_jupyter_backend(\"client\")"
   ]
  },
  {
   "cell_type": "code",
   "execution_count": 2,
   "metadata": {},
   "outputs": [
    {
     "data": {
      "image/png": "[encoded data removed]",
      "text/plain": [
       "<Figure size 640x480 with 1 Axes>"
      ]
     },
     "metadata": {},
     "output_type": "display_data"
    }
   ],
   "source": [
    "import geogen.probability as rv\n",
    "import numpy as np\n",
    "# Testing amplitude rv\n",
    "n_samples = 1000\n",
    "amps = np.zeros(n_samples)\n",
    "for i in range(n_samples):\n",
    "    amps[i] = rv.beta_min_max(1.8, 5.5, 60,800)\n",
    "    \n",
    "import matplotlib.pyplot as plt\n",
    "plt.hist(amps, bins=50)\n",
    "plt.show()"
   ]
  },
  {
   "cell_type": "markdown",
   "metadata": {},
   "source": [
    "## Batch Viewer"
   ]
  },
  {
   "cell_type": "code",
   "execution_count": 3,
   "metadata": {},
   "outputs": [
    {
     "ename": "RuntimeError",
     "evalue": "No Qt binding was found, got: No Qt bindings could be found",
     "output_type": "error",
     "traceback": [
      "\u001b[1;31m---------------------------------------------------------------------------\u001b[0m",
      "\u001b[1;31mRuntimeError\u001b[0m                              Traceback (most recent call last)",
      "Cell \u001b[1;32mIn[3], line 13\u001b[0m\n\u001b[0;32m     10\u001b[0m bounds \u001b[38;5;241m=\u001b[39m (BOUNDS_X, BOUNDS_Y, BOUNDS_Z) \u001b[38;5;66;03m# Bounds imported from generation (geowords file)\u001b[39;00m\n\u001b[0;32m     11\u001b[0m \u001b[38;5;66;03m# res = (z, z, z)\u001b[39;00m\n\u001b[0;32m     12\u001b[0m \u001b[38;5;66;03m# bounds = ((-1920, 1920),(-1920, 1920),(-1920, 1920))\u001b[39;00m\n\u001b[1;32m---> 13\u001b[0m test_viewer \u001b[38;5;241m=\u001b[39m \u001b[43mgeovis\u001b[49m\u001b[38;5;241;43m.\u001b[39;49m\u001b[43mGeoWordPlotter\u001b[49m\u001b[43m(\u001b[49m\u001b[43msentence\u001b[49m\u001b[43m,\u001b[49m\u001b[43m \u001b[49m\u001b[43mbounds\u001b[49m\u001b[43m,\u001b[49m\u001b[43m \u001b[49m\u001b[43mres\u001b[49m\u001b[43m,\u001b[49m\u001b[43m \u001b[49m\u001b[38;5;241;43m9\u001b[39;49m\u001b[43m,\u001b[49m\u001b[43m \u001b[49m\u001b[43mclim\u001b[49m\u001b[43m \u001b[49m\u001b[38;5;241;43m=\u001b[39;49m\u001b[43m \u001b[49m\u001b[43m(\u001b[49m\u001b[38;5;241;43m0\u001b[39;49m\u001b[43m,\u001b[49m\u001b[38;5;241;43m13\u001b[39;49m\u001b[43m)\u001b[49m\u001b[43m)\u001b[49m\n",
      "File \u001b[1;32mc:\\users\\sghys\\summer2024\\structuralgeo\\src\\geogen\\plot\\GeoWordPlotter.py:42\u001b[0m, in \u001b[0;36mGeoWordPlotter.__init__\u001b[1;34m(self, sentence, bounds, res, n_samples, clim)\u001b[0m\n\u001b[0;32m     40\u001b[0m \u001b[38;5;28mself\u001b[39m\u001b[38;5;241m.\u001b[39mclim \u001b[38;5;241m=\u001b[39m clim\n\u001b[0;32m     41\u001b[0m \u001b[38;5;28mself\u001b[39m\u001b[38;5;241m.\u001b[39mcmap \u001b[38;5;241m=\u001b[39m \u001b[38;5;124m\"\u001b[39m\u001b[38;5;124mgist_ncar\u001b[39m\u001b[38;5;124m\"\u001b[39m\n\u001b[1;32m---> 42\u001b[0m \u001b[38;5;28;43mself\u001b[39;49m\u001b[38;5;241;43m.\u001b[39;49m\u001b[43minitialize_plotter\u001b[49m\u001b[43m(\u001b[49m\u001b[43m)\u001b[49m\n",
      "File \u001b[1;32mc:\\users\\sghys\\summer2024\\structuralgeo\\src\\geogen\\plot\\GeoWordPlotter.py:46\u001b[0m, in \u001b[0;36mGeoWordPlotter.initialize_plotter\u001b[1;34m(self)\u001b[0m\n\u001b[0;32m     44\u001b[0m \u001b[38;5;28;01mdef\u001b[39;00m \u001b[38;5;21minitialize_plotter\u001b[39m(\u001b[38;5;28mself\u001b[39m):\n\u001b[0;32m     45\u001b[0m     rows, cols \u001b[38;5;241m=\u001b[39m \u001b[38;5;28mself\u001b[39m\u001b[38;5;241m.\u001b[39mcalculate_grid_dims(\u001b[38;5;28mself\u001b[39m\u001b[38;5;241m.\u001b[39mn_samples)\n\u001b[1;32m---> 46\u001b[0m     \u001b[38;5;28mself\u001b[39m\u001b[38;5;241m.\u001b[39mplotter \u001b[38;5;241m=\u001b[39m \u001b[43mBackgroundPlotter\u001b[49m\u001b[43m(\u001b[49m\u001b[43mshape\u001b[49m\u001b[38;5;241;43m=\u001b[39;49m\u001b[43m(\u001b[49m\u001b[43mrows\u001b[49m\u001b[43m,\u001b[49m\u001b[43m \u001b[49m\u001b[43mcols\u001b[49m\u001b[43m)\u001b[49m\u001b[43m)\u001b[49m\n\u001b[0;32m     47\u001b[0m     \u001b[38;5;28mself\u001b[39m\u001b[38;5;241m.\u001b[39mplotter\u001b[38;5;241m.\u001b[39mraise_()  \u001b[38;5;66;03m# Bring plotter to front focus window\u001b[39;00m\n\u001b[0;32m     48\u001b[0m     \u001b[38;5;28mself\u001b[39m\u001b[38;5;241m.\u001b[39mupdate_samples()\n",
      "File \u001b[1;32mc:\\Users\\sghys\\miniconda3\\envs\\ml\\Lib\\site-packages\\pyvistaqt\\__init__.py:21\u001b[0m, in \u001b[0;36m_QtBindingError.__init__\u001b[1;34m(self, *args, **kwargs)\u001b[0m\n\u001b[0;32m     20\u001b[0m \u001b[38;5;28;01mdef\u001b[39;00m \u001b[38;5;21m__init__\u001b[39m(\u001b[38;5;28mself\u001b[39m, \u001b[38;5;241m*\u001b[39margs, \u001b[38;5;241m*\u001b[39m\u001b[38;5;241m*\u001b[39mkwargs):\n\u001b[1;32m---> 21\u001b[0m     \u001b[38;5;28;01mraise\u001b[39;00m \u001b[38;5;167;01mRuntimeError\u001b[39;00m(\u001b[38;5;124mf\u001b[39m\u001b[38;5;124m\"\u001b[39m\u001b[38;5;124mNo Qt binding was found, got: \u001b[39m\u001b[38;5;132;01m{\u001b[39;00m_exc_msg\u001b[38;5;132;01m}\u001b[39;00m\u001b[38;5;124m\"\u001b[39m)\n",
      "\u001b[1;31mRuntimeError\u001b[0m: No Qt binding was found, got: No Qt bindings could be found"
     ]
    }
   ],
   "source": [
    "%aimport geogen.generation.geowords\n",
    "%aimport geogen.generation.categorical_events\n",
    "\n",
    "# List of geological words to generate\n",
    "sentence = [BaseStrata()]\n",
    "\n",
    "# Model resolution and bounds\n",
    "z = 64\n",
    "res = (2*z, 2*z, z)\n",
    "bounds = (BOUNDS_X, BOUNDS_Y, BOUNDS_Z) # Bounds imported from generation (geowords file)\n",
    "# res = (z, z, z)\n",
    "# bounds = ((-1920, 1920),(-1920, 1920),(-1920, 1920))\n",
    "test_viewer = geovis.GeoWordPlotter(sentence, bounds, res, 9, clim = (0,13))"
   ]
  },
  {
   "cell_type": "markdown",
   "metadata": {},
   "source": [
    "## Single Viewer"
   ]
  },
  {
   "cell_type": "code",
   "execution_count": null,
   "metadata": {},
   "outputs": [
    {
     "name": "stdout",
     "output_type": "stream",
     "text": [
      "The autoreload extension is already loaded. To reload it, use:\n",
      "  %reload_ext autoreload\n"
     ]
    },
    {
     "data": {
      "application/vnd.jupyter.widget-view+json": {
       "model_id": "3936d56e5871482ba967f8a8a782cdf8",
       "version_major": 2,
       "version_minor": 0
      },
      "text/plain": [
       "HBox(children=(Button(description='Save Model', style=ButtonStyle()), Button(description='Discard Model', styl…"
      ]
     },
     "metadata": {},
     "output_type": "display_data"
    },
    {
     "data": {
      "application/vnd.jupyter.widget-view+json": {
       "model_id": "70480776afd2410bb55d351c47eb1436",
       "version_major": 2,
       "version_minor": 0
      },
      "text/plain": [
       "Output()"
      ]
     },
     "metadata": {},
     "output_type": "display_data"
    }
   ],
   "source": [
    "%load_ext autoreload\n",
    "%autoreload 2\n",
    "\n",
    "from geogen.generation import *\n",
    "\n",
    "# set numpy seed\n",
    "np.random.seed(0)\n",
    "\n",
    "# List of geological words to generate\n",
    "sentence = [BaseStrata(), Sediment(), Fold(), Sediment(), Erosion()]\n",
    "# Model resolution and bounds\n",
    "z = 64\n",
    "res = (2*z, 2*z, z)\n",
    "bounds = (BOUNDS_X, BOUNDS_Y, BOUNDS_Z) # Bounds imported from generation (geowords file)\n",
    "# bounds = ((-1920, 1920),(-1920, 1920),(-1920, 1920))\n",
    "\n",
    "def generate_model_func():\n",
    "    hist = generate_history(sentence)\n",
    "    model = geo.GeoModel(bounds=bounds, resolution=res)\n",
    "    model.add_history(hist)\n",
    "    model.compute_model(normalize=True)    \n",
    "    \n",
    "    return model\n",
    "\n",
    "mr = geovis.ModelReviewer(generate_model_func, './')\n",
    "\n",
    "mr.start_review()"
   ]
  },
  {
   "cell_type": "markdown",
   "metadata": {},
   "source": [
    "## Forming New GeoWords\n",
    "\n",
    "The contract for a geoword is that it simply needs to have a `build_ history()` function that will populate the `self.history` field.  For example we want to pair a fault with a dike randomly placed in the model. We can create a new `GeoWord` object that will encapsulate the random variables and the underlying processes. "
   ]
  },
  {
   "cell_type": "code",
   "execution_count": null,
   "metadata": {},
   "outputs": [],
   "source": [
    "from geogen.model import Fault, DikePlane\n",
    "from geogen.probability import random_point_in_ellipsoid\n",
    "import numpy as np\n",
    "\n",
    "\n",
    "class MyFaultDikeWord(GeoWord):\n",
    "    def build_history(self):\n",
    "        bounds = ((-3840, 3840), (-3840, 3840), (-1920, 1920))\n",
    "        strike = np.random.uniform(0, 360)\n",
    "        dip = np.random.uniform(75, 90)\n",
    "        rake = np.random.uniform(0, 360)\n",
    "        origin = random_point_in_ellipsoid(bounds)\n",
    "        # First a Fault\n",
    "        fault_params = {\n",
    "            \"strike\": strike,\n",
    "            \"dip\": dip,\n",
    "            \"rake\": rake,\n",
    "            \"amplitude\": np.random.lognormal(0, 0.25) * 200,\n",
    "            \"origin\": origin,\n",
    "        }\n",
    "        fault = Fault(**fault_params)\n",
    "        # Then a Dike in the same area\n",
    "        dike_params = {\n",
    "            \"strike\": strike,\n",
    "            \"dip\": dip,\n",
    "            \"width\": np.random.normal(150, 50),\n",
    "            \"origin\": origin,\n",
    "        }\n",
    "        dike = DikePlane(**dike_params)\n",
    "\n",
    "        self.add_process(fault)\n",
    "        self.add_process(dike)\n",
    "        # No return value needed"
   ]
  },
  {
   "cell_type": "markdown",
   "metadata": {},
   "source": [
    "Now adding a new `GeoWord` object that encapsulates the fault and dike processes. To a sentence:"
   ]
  },
  {
   "cell_type": "code",
   "execution_count": null,
   "metadata": {},
   "outputs": [
    {
     "data": {
      "application/vnd.jupyter.widget-view+json": {
       "model_id": "01a5426e1358446bb6d12bc80cb02c87",
       "version_major": 2,
       "version_minor": 0
      },
      "text/plain": [
       "HBox(children=(Button(description='Save Model', style=ButtonStyle()), Button(description='Discard Model', styl…"
      ]
     },
     "metadata": {},
     "output_type": "display_data"
    },
    {
     "data": {
      "application/vnd.jupyter.widget-view+json": {
       "model_id": "5097d130b3fe416682c6d4d06d137468",
       "version_major": 2,
       "version_minor": 0
      },
      "text/plain": [
       "Output()"
      ]
     },
     "metadata": {},
     "output_type": "display_data"
    }
   ],
   "source": [
    "sentence = [\n",
    "    InfiniteBasement(),\n",
    "    CoarseRepeatSediment(),\n",
    "    FourierFold(),\n",
    "    SingleRandSediment(),\n",
    "    FineRepeatSediment(),\n",
    "    MyFaultDikeWord(),\n",
    "]\n",
    "\n",
    "# Save directory for models\n",
    "DEFAULT_BASE_DIR = \"../saved_models\"\n",
    "\n",
    "# Model resolution and bounds\n",
    "res = (256, 256, 128)\n",
    "bounds = ((-3840, 3840), (-3840, 3840), (-1920, 1920))\n",
    "\n",
    "\n",
    "def generate_model():\n",
    "    # Generate a randomized history from geowords, one single sample\n",
    "    hist = generate_history(sentence)\n",
    "    model = geo.GeoModel(bounds=bounds, resolution=res)\n",
    "    model.add_history(hist)\n",
    "    model.compute_model(normalize=True)\n",
    "    return model\n",
    "\n",
    "\n",
    "reviewer = geovis.ModelReviewer(generate_model_func=generate_model, base_dir=DEFAULT_BASE_DIR)\n",
    "reviewer.start_review()"
   ]
  }
 ],
 "metadata": {
  "kernelspec": {
   "display_name": "gnns",
   "language": "python",
   "name": "python3"
  },
  "language_info": {
   "codemirror_mode": {
    "name": "ipython",
    "version": 3
   },
   "file_extension": ".py",
   "mimetype": "text/x-python",
   "name": "python",
   "nbconvert_exporter": "python",
   "pygments_lexer": "ipython3",
   "version": "3.12.4"
  }
 },
 "nbformat": 4,
 "nbformat_minor": 2
}
