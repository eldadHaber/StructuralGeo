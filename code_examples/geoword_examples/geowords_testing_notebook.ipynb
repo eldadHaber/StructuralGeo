{
 "cells": [
  {
   "cell_type": "markdown",
   "metadata": {},
   "source": [
    "# Geoword Testing Environment\n",
    "For building multiple examples of geoword sequences"
   ]
  },
  {
   "cell_type": "code",
   "execution_count": 1,
   "metadata": {},
   "outputs": [],
   "source": [
    "import pyvista as pv\n",
    "\n",
    "from structgeo.generation import *\n",
    "import structgeo.model as geo\n",
    "import structgeo.plot as geovis\n",
    "\n",
    "pv.set_jupyter_backend(\"client\")"
   ]
  },
  {
   "cell_type": "markdown",
   "metadata": {},
   "source": [
    "## Batch Viewer"
   ]
  },
  {
   "cell_type": "code",
   "execution_count": 4,
   "metadata": {},
   "outputs": [
    {
     "name": "stdout",
     "output_type": "stream",
     "text": [
      "The autoreload extension is already loaded. To reload it, use:\n",
      "  %reload_ext autoreload\n",
      "Updated samples.\n",
      "Updated samples.\n"
     ]
    }
   ],
   "source": [
    "%load_ext autoreload\n",
    "%autoreload 2\n",
    "\n",
    "from structgeo.generation import *\n",
    "\n",
    "# List of geological words to generate\n",
    "sentence = [BaseStrataEvent(), FourierFold(), SedimentEvent()]\n",
    "# Model resolution and bounds\n",
    "z = 64\n",
    "res = (2*z, 2*z, z)\n",
    "bounds = (BOUNDS_X, BOUNDS_Y, BOUNDS_Z) # Bounds imported from generation (geowords file)\n",
    "# bounds = ((-1920, 1920),(-1920, 1920),(-1920, 1920))\n",
    "test_viewer = geovis.GeoWordPlotter(sentence, bounds, res, 16, clim = (0,14))"
   ]
  },
  {
   "cell_type": "markdown",
   "metadata": {},
   "source": [
    "## Single Viewer"
   ]
  },
  {
   "cell_type": "code",
   "execution_count": 2,
   "metadata": {},
   "outputs": [
    {
     "data": {
      "application/vnd.jupyter.widget-view+json": {
       "model_id": "1a64a3c6268a44288da880b7873ad99b",
       "version_major": 2,
       "version_minor": 0
      },
      "text/plain": [
       "HBox(children=(Button(description='Save Model', style=ButtonStyle()), Button(description='Discard Model', styl…"
      ]
     },
     "metadata": {},
     "output_type": "display_data"
    },
    {
     "data": {
      "application/vnd.jupyter.widget-view+json": {
       "model_id": "87ddc3c72b2244b393c49ec1457d5f2a",
       "version_major": 2,
       "version_minor": 0
      },
      "text/plain": [
       "Output()"
      ]
     },
     "metadata": {},
     "output_type": "display_data"
    }
   ],
   "source": [
    "%load_ext autoreload\n",
    "%autoreload 2\n",
    "\n",
    "from structgeo.generation import *\n",
    "\n",
    "# set numpy seed\n",
    "np.random.seed(0)\n",
    "\n",
    "# List of geological words to generate\n",
    "sentence = [InfiniteSedimentMarkov()]\n",
    "# Model resolution and bounds\n",
    "z = 32\n",
    "res = (2*z, 2*z, z)\n",
    "bounds = (BOUNDS_X, BOUNDS_Y, BOUNDS_Z) # Bounds imported from generation (geowords file)\n",
    "# bounds = ((-1920, 1920),(-1920, 1920),(-1920, 1920))\n",
    "\n",
    "def generate_model_func():\n",
    "    hist = generate_history(sentence)\n",
    "    period = 4000\n",
    "    period = np.random.lognormal(*rv.log_normal_params(mean = 4000, std_dev = 5000))\n",
    "    amplitude = np.random.uniform(.01*period ,.21*period - .1/10000*period**2)\n",
    "    shape = 0.2\n",
    "    fold = geo.Fold(strike=0, dip=90, phase=np.random.uniform(0,np.pi*2), period=period, amplitude=amplitude, shape=shape)\n",
    "    hist.append(fold)\n",
    "    \n",
    "    return generate_normalized_model(hist, bounds, 64)\n",
    "\n",
    "mr = geovis.ModelReviewer(generate_model_func, './')\n",
    "\n",
    "mr.start_review()"
   ]
  },
  {
   "cell_type": "markdown",
   "metadata": {},
   "source": [
    "## Forming New GeoWords\n",
    "\n",
    "The contract for a geoword is that it simply needs to have a `build_ history()` function that will populate the `self.history` field.  For example we want to pair a fault with a dike randomly placed in the model. We can create a new `GeoWord` object that will encapsulate the random variables and the underlying processes. "
   ]
  },
  {
   "cell_type": "code",
   "execution_count": null,
   "metadata": {},
   "outputs": [],
   "source": [
    "from structgeo.model import Fault, DikePlane\n",
    "from structgeo.probability import random_point_in_ellipsoid\n",
    "import numpy as np\n",
    "\n",
    "\n",
    "class MyFaultDikeWord(GeoWord):\n",
    "    def build_history(self):\n",
    "        bounds = ((-3840, 3840), (-3840, 3840), (-1920, 1920))\n",
    "        strike = np.random.uniform(0, 360)\n",
    "        dip = np.random.uniform(75, 90)\n",
    "        rake = np.random.uniform(0, 360)\n",
    "        origin = random_point_in_ellipsoid(bounds)\n",
    "        # First a Fault\n",
    "        fault_params = {\n",
    "            \"strike\": strike,\n",
    "            \"dip\": dip,\n",
    "            \"rake\": rake,\n",
    "            \"amplitude\": np.random.lognormal(0, 0.25) * 200,\n",
    "            \"origin\": origin,\n",
    "        }\n",
    "        fault = Fault(**fault_params)\n",
    "        # Then a Dike in the same area\n",
    "        dike_params = {\n",
    "            \"strike\": strike,\n",
    "            \"dip\": dip,\n",
    "            \"width\": np.random.normal(150, 50),\n",
    "            \"origin\": origin,\n",
    "        }\n",
    "        dike = DikePlane(**dike_params)\n",
    "\n",
    "        self.add_process(fault)\n",
    "        self.add_process(dike)\n",
    "        # No return value needed"
   ]
  },
  {
   "cell_type": "markdown",
   "metadata": {},
   "source": [
    "Now adding a new `GeoWord` object that encapsulates the fault and dike processes. To a sentence:"
   ]
  },
  {
   "cell_type": "code",
   "execution_count": null,
   "metadata": {},
   "outputs": [
    {
     "data": {
      "application/vnd.jupyter.widget-view+json": {
       "model_id": "0cb5ac5137984efb856782d60c71a55e",
       "version_major": 2,
       "version_minor": 0
      },
      "text/plain": [
       "HBox(children=(Button(description='Save Model', style=ButtonStyle()), Button(description='Discard Model', styl…"
      ]
     },
     "metadata": {},
     "output_type": "display_data"
    },
    {
     "data": {
      "application/vnd.jupyter.widget-view+json": {
       "model_id": "c2f3968e24d9452dbb19c4fa2522fba2",
       "version_major": 2,
       "version_minor": 0
      },
      "text/plain": [
       "Output()"
      ]
     },
     "metadata": {},
     "output_type": "display_data"
    }
   ],
   "source": [
    "sentence = [\n",
    "    InfiniteBasement(),\n",
    "    CoarseRepeatSediment(),\n",
    "    FourierFold(),\n",
    "    SingleRandSediment(),\n",
    "    FineRepeatSediment(),\n",
    "    MyFaultDikeWord(),\n",
    "]\n",
    "\n",
    "# Save directory for models\n",
    "DEFAULT_BASE_DIR = \"../saved_models\"\n",
    "\n",
    "# Model resolution and bounds\n",
    "res = (256, 256, 128)\n",
    "bounds = ((-3840, 3840), (-3840, 3840), (-1920, 1920))\n",
    "\n",
    "\n",
    "def generate_model():\n",
    "    # Generate a randomized history from geowords, one single sample\n",
    "    hist = generate_history(sentence)\n",
    "    # Generate a model\n",
    "    model = generate_normalized_model(hist, bounds, res)\n",
    "    return model\n",
    "\n",
    "\n",
    "reviewer = geovis.ModelReviewer(generate_model_func=generate_model, base_dir=DEFAULT_BASE_DIR)\n",
    "reviewer.start_review()"
   ]
  }
 ],
 "metadata": {
  "kernelspec": {
   "display_name": "gnns",
   "language": "python",
   "name": "python3"
  },
  "language_info": {
   "codemirror_mode": {
    "name": "ipython",
    "version": 3
   },
   "file_extension": ".py",
   "mimetype": "text/x-python",
   "name": "python",
   "nbconvert_exporter": "python",
   "pygments_lexer": "ipython3",
   "version": "3.11.9"
  }
 },
 "nbformat": 4,
 "nbformat_minor": 2
}
